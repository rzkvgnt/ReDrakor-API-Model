{
 "cells": [
  {
   "cell_type": "code",
   "execution_count": 55,
   "metadata": {
    "id": "HmELOBqTP3nw"
   },
   "outputs": [],
   "source": [
    "import numpy as np \n",
    "import pandas as pd \n",
    "import seaborn as sns\n",
    "from matplotlib import pyplot as plt\n",
    "import  re"
   ]
  },
  {
   "cell_type": "code",
   "execution_count": 56,
   "metadata": {
    "id": "X0iUOYuEpnRQ"
   },
   "outputs": [],
   "source": [
    "import warnings\n",
    "warnings.filterwarnings(\"ignore\", category=DeprecationWarning)"
   ]
  },
  {
   "cell_type": "code",
   "execution_count": 57,
   "metadata": {
    "colab": {
     "base_uri": "https://localhost:8080/"
    },
    "id": "17WrErn9p7jI",
    "outputId": "4e3fd7df-cf3c-40a7-9557-d685fca92cf8"
   },
   "outputs": [],
   "source": [
    "#import os\n",
    "#from google.colab import drive\n",
    "#drive.mount('/content/drive')"
   ]
  },
  {
   "cell_type": "code",
   "execution_count": 58,
   "metadata": {
    "id": "m1seQbztp-XZ"
   },
   "outputs": [],
   "source": [
    "df = pd.read_csv('../data/input/tb_redrakor.csv', index_col=None)"
   ]
  },
  {
   "cell_type": "code",
   "execution_count": 59,
   "metadata": {
    "colab": {
     "base_uri": "https://localhost:8080/",
     "height": 458
    },
    "id": "wMFnmwBOqGf8",
    "outputId": "fde84c85-2478-4d36-9713-3c93e21002ae",
    "scrolled": true
   },
   "outputs": [
    {
     "data": {
      "text/html": [
       "<div>\n",
       "<style scoped>\n",
       "    .dataframe tbody tr th:only-of-type {\n",
       "        vertical-align: middle;\n",
       "    }\n",
       "\n",
       "    .dataframe tbody tr th {\n",
       "        vertical-align: top;\n",
       "    }\n",
       "\n",
       "    .dataframe thead th {\n",
       "        text-align: right;\n",
       "    }\n",
       "</style>\n",
       "<table border=\"1\" class=\"dataframe\">\n",
       "  <thead>\n",
       "    <tr style=\"text-align: right;\">\n",
       "      <th></th>\n",
       "      <th>rank</th>\n",
       "      <th>judul</th>\n",
       "      <th>tahun</th>\n",
       "      <th>episode</th>\n",
       "      <th>network</th>\n",
       "      <th>umur</th>\n",
       "      <th>sinopsis</th>\n",
       "      <th>genre</th>\n",
       "      <th>tags</th>\n",
       "      <th>rating</th>\n",
       "      <th>funfact</th>\n",
       "    </tr>\n",
       "  </thead>\n",
       "  <tbody>\n",
       "    <tr>\n",
       "      <th>0</th>\n",
       "      <td>1</td>\n",
       "      <td>Move to Heaven</td>\n",
       "      <td>2021</td>\n",
       "      <td>10</td>\n",
       "      <td>Netflix</td>\n",
       "      <td>18+</td>\n",
       "      <td>Menceritakan kisah dari Han Geu-Roo yang mende...</td>\n",
       "      <td>Life,  Drama,  Family</td>\n",
       "      <td>Autism, Father-Son Relationship, Uncle-Nephew ...</td>\n",
       "      <td>9.2</td>\n",
       "      <td>Drama ini diadaptasi dari kisah nyata yaitu So...</td>\n",
       "    </tr>\n",
       "    <tr>\n",
       "      <th>1</th>\n",
       "      <td>2</td>\n",
       "      <td>Hospital Playlist</td>\n",
       "      <td>2020</td>\n",
       "      <td>12</td>\n",
       "      <td>tvN, Netflix</td>\n",
       "      <td>15+</td>\n",
       "      <td>Kisah-kisah tentang orang-orang yang menjalani...</td>\n",
       "      <td>Friendship,  Romance,  Life,  Medical</td>\n",
       "      <td>Strong Friendship, Doctor, Multiple Mains, Slo...</td>\n",
       "      <td>9.1</td>\n",
       "      <td>Nama para tokoh Hospital Playlist diambil dari...</td>\n",
       "    </tr>\n",
       "    <tr>\n",
       "      <th>2</th>\n",
       "      <td>3</td>\n",
       "      <td>Flower of Evil</td>\n",
       "      <td>2020</td>\n",
       "      <td>16</td>\n",
       "      <td>tvN, Netflix, Vidio, iQIYI, viu, Amazon Prime ...</td>\n",
       "      <td>15+</td>\n",
       "      <td>Meskipun Baek Hee Sung menyembunyikan rahasia ...</td>\n",
       "      <td>Thriller,  Romance,  Crime,  Melodrama</td>\n",
       "      <td>Married Couple, Deception, Suspense, Family Se...</td>\n",
       "      <td>9.1</td>\n",
       "      <td>Judul drama ini terinspirasi dari buku puisi C...</td>\n",
       "    </tr>\n",
       "    <tr>\n",
       "      <th>3</th>\n",
       "      <td>4</td>\n",
       "      <td>My Mister</td>\n",
       "      <td>2018</td>\n",
       "      <td>16</td>\n",
       "      <td>tvN, Netflix, Vidio, iQIYI, Viu</td>\n",
       "      <td>15+</td>\n",
       "      <td>Park Dong Hoon adalah seorang insinyur paruh b...</td>\n",
       "      <td>Business,  Psychological,  Life,  Drama,  Family</td>\n",
       "      <td>Nice Male Lead, Strong Female Lead, Hardship, ...</td>\n",
       "      <td>9.1</td>\n",
       "      <td>Penggemar IU (pemeran wanita utama) merasa keb...</td>\n",
       "    </tr>\n",
       "    <tr>\n",
       "      <th>4</th>\n",
       "      <td>5</td>\n",
       "      <td>Prison Playbook</td>\n",
       "      <td>2017</td>\n",
       "      <td>16</td>\n",
       "      <td>tvN,  Netflix, Disney+, Viu, Vidio, iQIYI, Ama...</td>\n",
       "      <td>15+</td>\n",
       "      <td>Menceritakan kisah atlet baseball terkenal ber...</td>\n",
       "      <td>Comedy,  Life,  Drama</td>\n",
       "      <td>Prison, Bromance, Wrongfully Accused, Life Les...</td>\n",
       "      <td>9.1</td>\n",
       "      <td>Latar tempat utama di drama ini adalah penjara...</td>\n",
       "    </tr>\n",
       "  </tbody>\n",
       "</table>\n",
       "</div>"
      ],
      "text/plain": [
       "   rank              judul  tahun  episode  \\\n",
       "0     1     Move to Heaven   2021       10   \n",
       "1     2  Hospital Playlist   2020       12   \n",
       "2     3     Flower of Evil   2020       16   \n",
       "3     4          My Mister   2018       16   \n",
       "4     5    Prison Playbook   2017       16   \n",
       "\n",
       "                                             network umur  \\\n",
       "0                                            Netflix  18+   \n",
       "1                                      tvN, Netflix   15+   \n",
       "2  tvN, Netflix, Vidio, iQIYI, viu, Amazon Prime ...  15+   \n",
       "3                    tvN, Netflix, Vidio, iQIYI, Viu  15+   \n",
       "4  tvN,  Netflix, Disney+, Viu, Vidio, iQIYI, Ama...  15+   \n",
       "\n",
       "                                            sinopsis  \\\n",
       "0  Menceritakan kisah dari Han Geu-Roo yang mende...   \n",
       "1  Kisah-kisah tentang orang-orang yang menjalani...   \n",
       "2  Meskipun Baek Hee Sung menyembunyikan rahasia ...   \n",
       "3  Park Dong Hoon adalah seorang insinyur paruh b...   \n",
       "4  Menceritakan kisah atlet baseball terkenal ber...   \n",
       "\n",
       "                                               genre  \\\n",
       "0                             Life,  Drama,  Family    \n",
       "1             Friendship,  Romance,  Life,  Medical    \n",
       "2            Thriller,  Romance,  Crime,  Melodrama    \n",
       "3  Business,  Psychological,  Life,  Drama,  Family    \n",
       "4                             Comedy,  Life,  Drama    \n",
       "\n",
       "                                                tags  rating  \\\n",
       "0  Autism, Father-Son Relationship, Uncle-Nephew ...     9.2   \n",
       "1  Strong Friendship, Doctor, Multiple Mains, Slo...     9.1   \n",
       "2  Married Couple, Deception, Suspense, Family Se...     9.1   \n",
       "3  Nice Male Lead, Strong Female Lead, Hardship, ...     9.1   \n",
       "4  Prison, Bromance, Wrongfully Accused, Life Les...     9.1   \n",
       "\n",
       "                                             funfact  \n",
       "0  Drama ini diadaptasi dari kisah nyata yaitu So...  \n",
       "1  Nama para tokoh Hospital Playlist diambil dari...  \n",
       "2  Judul drama ini terinspirasi dari buku puisi C...  \n",
       "3  Penggemar IU (pemeran wanita utama) merasa keb...  \n",
       "4  Latar tempat utama di drama ini adalah penjara...  "
      ]
     },
     "execution_count": 59,
     "metadata": {},
     "output_type": "execute_result"
    }
   ],
   "source": [
    "df.head()"
   ]
  },
  {
   "cell_type": "code",
   "execution_count": 60,
   "metadata": {},
   "outputs": [],
   "source": [
    "df = df.drop(['network', 'umur', 'sinopsis', 'tags', 'funfact'], axis=1)"
   ]
  },
  {
   "cell_type": "code",
   "execution_count": 61,
   "metadata": {
    "scrolled": true
   },
   "outputs": [
    {
     "data": {
      "text/html": [
       "<div>\n",
       "<style scoped>\n",
       "    .dataframe tbody tr th:only-of-type {\n",
       "        vertical-align: middle;\n",
       "    }\n",
       "\n",
       "    .dataframe tbody tr th {\n",
       "        vertical-align: top;\n",
       "    }\n",
       "\n",
       "    .dataframe thead th {\n",
       "        text-align: right;\n",
       "    }\n",
       "</style>\n",
       "<table border=\"1\" class=\"dataframe\">\n",
       "  <thead>\n",
       "    <tr style=\"text-align: right;\">\n",
       "      <th></th>\n",
       "      <th>Business</th>\n",
       "      <th>Comedy</th>\n",
       "      <th>Crime</th>\n",
       "      <th>D</th>\n",
       "      <th>Dr</th>\n",
       "      <th>Drama</th>\n",
       "      <th>Fa</th>\n",
       "      <th>Famil</th>\n",
       "      <th>Family</th>\n",
       "      <th>Fant</th>\n",
       "      <th>...</th>\n",
       "      <th>Military</th>\n",
       "      <th>Music</th>\n",
       "      <th>Mystery</th>\n",
       "      <th>Psychological</th>\n",
       "      <th>Romance</th>\n",
       "      <th>Suspense</th>\n",
       "      <th>Thriller</th>\n",
       "      <th>rating</th>\n",
       "      <th>tahun</th>\n",
       "      <th>episode</th>\n",
       "    </tr>\n",
       "  </thead>\n",
       "  <tbody>\n",
       "    <tr>\n",
       "      <th>0</th>\n",
       "      <td>0</td>\n",
       "      <td>0</td>\n",
       "      <td>0</td>\n",
       "      <td>0</td>\n",
       "      <td>0</td>\n",
       "      <td>1</td>\n",
       "      <td>0</td>\n",
       "      <td>0</td>\n",
       "      <td>1</td>\n",
       "      <td>0</td>\n",
       "      <td>...</td>\n",
       "      <td>0</td>\n",
       "      <td>0</td>\n",
       "      <td>0</td>\n",
       "      <td>0</td>\n",
       "      <td>0</td>\n",
       "      <td>0</td>\n",
       "      <td>0</td>\n",
       "      <td>9.2</td>\n",
       "      <td>2021</td>\n",
       "      <td>10</td>\n",
       "    </tr>\n",
       "    <tr>\n",
       "      <th>1</th>\n",
       "      <td>0</td>\n",
       "      <td>0</td>\n",
       "      <td>0</td>\n",
       "      <td>0</td>\n",
       "      <td>0</td>\n",
       "      <td>0</td>\n",
       "      <td>0</td>\n",
       "      <td>0</td>\n",
       "      <td>0</td>\n",
       "      <td>0</td>\n",
       "      <td>...</td>\n",
       "      <td>0</td>\n",
       "      <td>0</td>\n",
       "      <td>0</td>\n",
       "      <td>0</td>\n",
       "      <td>0</td>\n",
       "      <td>0</td>\n",
       "      <td>0</td>\n",
       "      <td>9.1</td>\n",
       "      <td>2020</td>\n",
       "      <td>12</td>\n",
       "    </tr>\n",
       "    <tr>\n",
       "      <th>2</th>\n",
       "      <td>0</td>\n",
       "      <td>0</td>\n",
       "      <td>1</td>\n",
       "      <td>0</td>\n",
       "      <td>0</td>\n",
       "      <td>0</td>\n",
       "      <td>0</td>\n",
       "      <td>0</td>\n",
       "      <td>0</td>\n",
       "      <td>0</td>\n",
       "      <td>...</td>\n",
       "      <td>0</td>\n",
       "      <td>0</td>\n",
       "      <td>0</td>\n",
       "      <td>0</td>\n",
       "      <td>0</td>\n",
       "      <td>0</td>\n",
       "      <td>1</td>\n",
       "      <td>9.1</td>\n",
       "      <td>2020</td>\n",
       "      <td>16</td>\n",
       "    </tr>\n",
       "    <tr>\n",
       "      <th>3</th>\n",
       "      <td>0</td>\n",
       "      <td>0</td>\n",
       "      <td>0</td>\n",
       "      <td>0</td>\n",
       "      <td>0</td>\n",
       "      <td>1</td>\n",
       "      <td>0</td>\n",
       "      <td>0</td>\n",
       "      <td>1</td>\n",
       "      <td>0</td>\n",
       "      <td>...</td>\n",
       "      <td>0</td>\n",
       "      <td>0</td>\n",
       "      <td>0</td>\n",
       "      <td>0</td>\n",
       "      <td>0</td>\n",
       "      <td>0</td>\n",
       "      <td>0</td>\n",
       "      <td>9.1</td>\n",
       "      <td>2018</td>\n",
       "      <td>16</td>\n",
       "    </tr>\n",
       "    <tr>\n",
       "      <th>4</th>\n",
       "      <td>0</td>\n",
       "      <td>0</td>\n",
       "      <td>0</td>\n",
       "      <td>0</td>\n",
       "      <td>0</td>\n",
       "      <td>1</td>\n",
       "      <td>0</td>\n",
       "      <td>0</td>\n",
       "      <td>0</td>\n",
       "      <td>0</td>\n",
       "      <td>...</td>\n",
       "      <td>0</td>\n",
       "      <td>0</td>\n",
       "      <td>0</td>\n",
       "      <td>0</td>\n",
       "      <td>0</td>\n",
       "      <td>0</td>\n",
       "      <td>0</td>\n",
       "      <td>9.1</td>\n",
       "      <td>2017</td>\n",
       "      <td>16</td>\n",
       "    </tr>\n",
       "  </tbody>\n",
       "</table>\n",
       "<p>5 rows × 67 columns</p>\n",
       "</div>"
      ],
      "text/plain": [
       "     Business    Comedy    Crime    D    Dr    Drama    Fa    Famil    Family  \\\n",
       "0           0         0        0    0     0        1     0        0         1   \n",
       "1           0         0        0    0     0        0     0        0         0   \n",
       "2           0         0        1    0     0        0     0        0         0   \n",
       "3           0         0        0    0     0        1     0        0         1   \n",
       "4           0         0        0    0     0        1     0        0         0   \n",
       "\n",
       "     Fant  ...  Military  Music  Mystery  Psychological  Romance  Suspense  \\\n",
       "0       0  ...         0      0        0              0        0         0   \n",
       "1       0  ...         0      0        0              0        0         0   \n",
       "2       0  ...         0      0        0              0        0         0   \n",
       "3       0  ...         0      0        0              0        0         0   \n",
       "4       0  ...         0      0        0              0        0         0   \n",
       "\n",
       "   Thriller  rating  tahun  episode  \n",
       "0         0     9.2   2021       10  \n",
       "1         0     9.1   2020       12  \n",
       "2         1     9.1   2020       16  \n",
       "3         0     9.1   2018       16  \n",
       "4         0     9.1   2017       16  \n",
       "\n",
       "[5 rows x 67 columns]"
      ]
     },
     "execution_count": 61,
     "metadata": {},
     "output_type": "execute_result"
    }
   ],
   "source": [
    "df_features = pd.concat([df['genre'].str.strip().str.get_dummies(sep=','), df[['rating']],df[['tahun']],df[['episode']]],axis=1)\n",
    "\n",
    "df['judul'] = df['judul'].map(lambda judul:re.sub('[^A-Za-z0-9]+',' ', judul))\n",
    "df_features.head()"
   ]
  },
  {
   "cell_type": "code",
   "execution_count": 62,
   "metadata": {},
   "outputs": [
    {
     "data": {
      "text/plain": [
       "Index(['  Business', '  Comedy', '  Crime', '  D', '  Dr', '  Drama', '  Fa',\n",
       "       '  Famil', '  Family', '  Fant', '  Fantasy', '  Friendship',\n",
       "       '  Historical', '  Horror', '  Invest', '  Investigation', '  Law',\n",
       "       '  Life', '  M', '  Martial Arts', '  Me', '  Medica', '  Medical',\n",
       "       '  Melo', '  Melodrama', '  Military', '  Myster', '  Mystery', '  Pol',\n",
       "       '  Polit', '  Political', '  Psychological', '  Romance', '  S',\n",
       "       '  School', '  Sci-Fi', '  Sports', '  Sup', '  Super', '  Supernat',\n",
       "       '  Supernatu', '  Supernatural', '  Suspense', '  Thriller', '  Y',\n",
       "       '  Yo', '  Youth', '  Zombies', 'Action', 'Business', 'Comedy', 'Drama',\n",
       "       'Food', 'Friendship', 'Historical', 'Horror', 'Life', 'Military',\n",
       "       'Music', 'Mystery', 'Psychological', 'Romance', 'Suspense', 'Thriller',\n",
       "       'rating', 'tahun', 'episode'],\n",
       "      dtype='object')"
      ]
     },
     "execution_count": 62,
     "metadata": {},
     "output_type": "execute_result"
    }
   ],
   "source": [
    "df_features.columns"
   ]
  },
  {
   "cell_type": "code",
   "execution_count": 63,
   "metadata": {
    "id": "Oi7oBBtB9hGO"
   },
   "outputs": [],
   "source": [
    "from sklearn.preprocessing import MinMaxScaler"
   ]
  },
  {
   "cell_type": "code",
   "execution_count": 64,
   "metadata": {
    "id": "VvLyGcWf9vlG"
   },
   "outputs": [],
   "source": [
    "min_max_scaler = MinMaxScaler()\n",
    "df_features = min_max_scaler.fit_transform(df_features)"
   ]
  },
  {
   "cell_type": "code",
   "execution_count": 65,
   "metadata": {
    "colab": {
     "base_uri": "https://localhost:8080/"
    },
    "id": "H-V4mSJH-DNy",
    "outputId": "dd6cda41-44d1-4c44-b4fa-3259c63dd331"
   },
   "outputs": [
    {
     "data": {
      "text/plain": [
       "array([[0.  , 0.  , 0.  , ..., 1.  , 1.  , 0.04],\n",
       "       [0.  , 0.  , 0.  , ..., 0.86, 0.94, 0.06],\n",
       "       [0.  , 0.  , 1.  , ..., 0.86, 0.94, 0.11],\n",
       "       ...,\n",
       "       [0.  , 1.  , 0.  , ..., 0.  , 0.89, 0.11],\n",
       "       [0.  , 0.  , 0.  , ..., 0.  , 1.  , 0.07],\n",
       "       [0.  , 0.  , 0.  , ..., 0.  , 0.44, 0.19]])"
      ]
     },
     "execution_count": 65,
     "metadata": {},
     "output_type": "execute_result"
    }
   ],
   "source": [
    "np.round(df_features, 2)"
   ]
  },
  {
   "cell_type": "code",
   "execution_count": 66,
   "metadata": {
    "id": "KIaK16Vn-e_d"
   },
   "outputs": [],
   "source": [
    "from sklearn.neighbors import NearestNeighbors"
   ]
  },
  {
   "cell_type": "code",
   "execution_count": 79,
   "metadata": {
    "id": "qJY1I8X1-tIR"
   },
   "outputs": [],
   "source": [
    "nbrs = NearestNeighbors(n_neighbors=6, algorithm='ball_tree').fit(df_features)"
   ]
  },
  {
   "cell_type": "code",
   "execution_count": 80,
   "metadata": {
    "scrolled": true
   },
   "outputs": [],
   "source": [
    "distances, indices = nbrs.kneighbors(df_features)\n",
    "prediction = []\n",
    "found_rank = get_index_from_name('Move to Heaven')\n",
    "for rank in indices[found_rank][1:]:\n",
    "    prediction.append(df.iloc[rank]['judul'])"
   ]
  },
  {
   "cell_type": "code",
   "execution_count": 70,
   "metadata": {},
   "outputs": [],
   "source": [
    "def get_index_from_name(judul):\n",
    "  search_result = df[df['judul']==judul].index.tolist()\n",
    "  if not search_result:\n",
    "    return -1\n",
    "  return search_result[0]\n",
    "\n",
    "all_drama_names = list(df.judul.values)\n",
    "\n",
    "def get_id_from_partial_name(partial):\n",
    "  for judul in all_drama_names:\n",
    "    if partial in judul:\n",
    "      print(judul,all_drama_names.index(judul))\n",
    "\n",
    "def print_similar_drama(query=None, rank=None):\n",
    "  if rank:\n",
    "    for rank in indices[rank][1:]:\n",
    "      print(df.iloc[rank]['judul'])\n",
    "  if query:\n",
    "    found_rank = get_index_from_name(query)\n",
    "    for rank in indices[found_rank][1:]:\n",
    "      print(df.iloc[rank]['judul'])\n",
    "    \n",
    "def get_name(judul):\n",
    "    df = df[df['judul'] == judul]    \n",
    "    df_feature = pd.concat([df['genre'].str.strip().str.get_dummies(sep=','), df[['rating']],df[['tahun']],df[['episode']]],axis=1)\n",
    "    return df_feature"
   ]
  },
  {
   "cell_type": "code",
   "execution_count": 71,
   "metadata": {},
   "outputs": [],
   "source": [
    "import joblib\n",
    "from sklearn.pipeline import make_pipeline"
   ]
  },
  {
   "cell_type": "code",
   "execution_count": 81,
   "metadata": {},
   "outputs": [
    {
     "data": {
      "text/plain": [
       "['../data/output/redrakor.joblib']"
      ]
     },
     "execution_count": 81,
     "metadata": {},
     "output_type": "execute_result"
    }
   ],
   "source": [
    "# pipeline = make_pipeline(MinMaxScaler(), nbrs)\n",
    "# pipeline.fit(df_features)\n",
    "\n",
    "joblib.dump(nbrs, '../data/output/redrakor.joblib')"
   ]
  },
  {
   "cell_type": "code",
   "execution_count": 75,
   "metadata": {},
   "outputs": [
    {
     "data": {
      "text/plain": [
       "NearestNeighbors(algorithm='ball_tree', n_neighbors=6)"
      ]
     },
     "execution_count": 75,
     "metadata": {},
     "output_type": "execute_result"
    }
   ],
   "source": [
    "nbrs"
   ]
  },
  {
   "cell_type": "code",
   "execution_count": null,
   "metadata": {},
   "outputs": [],
   "source": []
  }
 ],
 "metadata": {
  "colab": {
   "provenance": []
  },
  "kernelspec": {
   "display_name": "Python 3 (ipykernel)",
   "language": "python",
   "name": "python3"
  },
  "language_info": {
   "codemirror_mode": {
    "name": "ipython",
    "version": 3
   },
   "file_extension": ".py",
   "mimetype": "text/x-python",
   "name": "python",
   "nbconvert_exporter": "python",
   "pygments_lexer": "ipython3",
   "version": "3.9.5"
  },
  "vscode": {
   "interpreter": {
    "hash": "31f2aee4e71d21fbe5cf8b01ff0e069b9275f58929596ceb00d14d90e3e16cd6"
   }
  }
 },
 "nbformat": 4,
 "nbformat_minor": 1
}
