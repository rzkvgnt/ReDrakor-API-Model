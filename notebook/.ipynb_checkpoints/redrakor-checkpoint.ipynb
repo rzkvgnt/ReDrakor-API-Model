{
 "cells": [
  {
   "cell_type": "code",
   "execution_count": 37,
   "metadata": {
    "id": "HmELOBqTP3nw"
   },
   "outputs": [],
   "source": [
    "import numpy as np \n",
    "import pandas as pd \n",
    "import seaborn as sns\n",
    "from matplotlib import pyplot as plt\n",
    "import  re"
   ]
  },
  {
   "cell_type": "code",
   "execution_count": 38,
   "metadata": {
    "id": "X0iUOYuEpnRQ"
   },
   "outputs": [],
   "source": [
    "import warnings\n",
    "warnings.filterwarnings(\"ignore\", category=DeprecationWarning)"
   ]
  },
  {
   "cell_type": "code",
   "execution_count": 39,
   "metadata": {
    "colab": {
     "base_uri": "https://localhost:8080/"
    },
    "id": "17WrErn9p7jI",
    "outputId": "4e3fd7df-cf3c-40a7-9557-d685fca92cf8"
   },
   "outputs": [],
   "source": [
    "#import os\n",
    "#from google.colab import drive\n",
    "#drive.mount('/content/drive')"
   ]
  },
  {
   "cell_type": "code",
   "execution_count": 40,
   "metadata": {
    "id": "m1seQbztp-XZ"
   },
   "outputs": [],
   "source": [
    "df = pd.read_csv('../data/input/tb_redrakor.csv', index_col=None)"
   ]
  },
  {
   "cell_type": "code",
   "execution_count": 41,
   "metadata": {
    "colab": {
     "base_uri": "https://localhost:8080/",
     "height": 458
    },
    "id": "wMFnmwBOqGf8",
    "outputId": "fde84c85-2478-4d36-9713-3c93e21002ae",
    "scrolled": true
   },
   "outputs": [
    {
     "data": {
      "text/html": [
       "<div>\n",
       "<style scoped>\n",
       "    .dataframe tbody tr th:only-of-type {\n",
       "        vertical-align: middle;\n",
       "    }\n",
       "\n",
       "    .dataframe tbody tr th {\n",
       "        vertical-align: top;\n",
       "    }\n",
       "\n",
       "    .dataframe thead th {\n",
       "        text-align: right;\n",
       "    }\n",
       "</style>\n",
       "<table border=\"1\" class=\"dataframe\">\n",
       "  <thead>\n",
       "    <tr style=\"text-align: right;\">\n",
       "      <th></th>\n",
       "      <th>rank</th>\n",
       "      <th>judul</th>\n",
       "      <th>tahun</th>\n",
       "      <th>episode</th>\n",
       "      <th>network</th>\n",
       "      <th>umur</th>\n",
       "      <th>sinopsis</th>\n",
       "      <th>genre</th>\n",
       "      <th>tags</th>\n",
       "      <th>rating</th>\n",
       "      <th>funfact</th>\n",
       "    </tr>\n",
       "  </thead>\n",
       "  <tbody>\n",
       "    <tr>\n",
       "      <th>0</th>\n",
       "      <td>1</td>\n",
       "      <td>Move to Heaven</td>\n",
       "      <td>2021</td>\n",
       "      <td>10</td>\n",
       "      <td>Netflix</td>\n",
       "      <td>18+</td>\n",
       "      <td>Menceritakan kisah dari Han Geu-Roo yang mende...</td>\n",
       "      <td>Life,  Drama,  Family</td>\n",
       "      <td>Autism, Father-Son Relationship, Uncle-Nephew ...</td>\n",
       "      <td>9.2</td>\n",
       "      <td>Drama ini diadaptasi dari kisah nyata yaitu So...</td>\n",
       "    </tr>\n",
       "    <tr>\n",
       "      <th>1</th>\n",
       "      <td>2</td>\n",
       "      <td>Hospital Playlist</td>\n",
       "      <td>2020</td>\n",
       "      <td>12</td>\n",
       "      <td>tvN, Netflix</td>\n",
       "      <td>15+</td>\n",
       "      <td>Kisah-kisah tentang orang-orang yang menjalani...</td>\n",
       "      <td>Friendship,  Romance,  Life,  Medical</td>\n",
       "      <td>Strong Friendship, Doctor, Multiple Mains, Slo...</td>\n",
       "      <td>9.1</td>\n",
       "      <td>Nama para tokoh Hospital Playlist diambil dari...</td>\n",
       "    </tr>\n",
       "    <tr>\n",
       "      <th>2</th>\n",
       "      <td>3</td>\n",
       "      <td>Flower of Evil</td>\n",
       "      <td>2020</td>\n",
       "      <td>16</td>\n",
       "      <td>tvN, Netflix, Vidio, iQIYI, viu, Amazon Prime ...</td>\n",
       "      <td>15+</td>\n",
       "      <td>Meskipun Baek Hee Sung menyembunyikan rahasia ...</td>\n",
       "      <td>Thriller,  Romance,  Crime,  Melodrama</td>\n",
       "      <td>Married Couple, Deception, Suspense, Family Se...</td>\n",
       "      <td>9.1</td>\n",
       "      <td>Judul drama ini terinspirasi dari buku puisi C...</td>\n",
       "    </tr>\n",
       "    <tr>\n",
       "      <th>3</th>\n",
       "      <td>4</td>\n",
       "      <td>My Mister</td>\n",
       "      <td>2018</td>\n",
       "      <td>16</td>\n",
       "      <td>tvN, Netflix, Vidio, iQIYI, Viu</td>\n",
       "      <td>15+</td>\n",
       "      <td>Park Dong Hoon adalah seorang insinyur paruh b...</td>\n",
       "      <td>Business,  Psychological,  Life,  Drama,  Family</td>\n",
       "      <td>Nice Male Lead, Strong Female Lead, Hardship, ...</td>\n",
       "      <td>9.1</td>\n",
       "      <td>Penggemar IU (pemeran wanita utama) merasa keb...</td>\n",
       "    </tr>\n",
       "    <tr>\n",
       "      <th>4</th>\n",
       "      <td>5</td>\n",
       "      <td>Prison Playbook</td>\n",
       "      <td>2017</td>\n",
       "      <td>16</td>\n",
       "      <td>tvN,  Netflix, Disney+, Viu, Vidio, iQIYI, Ama...</td>\n",
       "      <td>15+</td>\n",
       "      <td>Menceritakan kisah atlet baseball terkenal ber...</td>\n",
       "      <td>Comedy,  Life,  Drama</td>\n",
       "      <td>Prison, Bromance, Wrongfully Accused, Life Les...</td>\n",
       "      <td>9.1</td>\n",
       "      <td>Latar tempat utama di drama ini adalah penjara...</td>\n",
       "    </tr>\n",
       "  </tbody>\n",
       "</table>\n",
       "</div>"
      ],
      "text/plain": [
       "   rank              judul  tahun  episode  \\\n",
       "0     1     Move to Heaven   2021       10   \n",
       "1     2  Hospital Playlist   2020       12   \n",
       "2     3     Flower of Evil   2020       16   \n",
       "3     4          My Mister   2018       16   \n",
       "4     5    Prison Playbook   2017       16   \n",
       "\n",
       "                                             network umur  \\\n",
       "0                                            Netflix  18+   \n",
       "1                                      tvN, Netflix   15+   \n",
       "2  tvN, Netflix, Vidio, iQIYI, viu, Amazon Prime ...  15+   \n",
       "3                    tvN, Netflix, Vidio, iQIYI, Viu  15+   \n",
       "4  tvN,  Netflix, Disney+, Viu, Vidio, iQIYI, Ama...  15+   \n",
       "\n",
       "                                            sinopsis  \\\n",
       "0  Menceritakan kisah dari Han Geu-Roo yang mende...   \n",
       "1  Kisah-kisah tentang orang-orang yang menjalani...   \n",
       "2  Meskipun Baek Hee Sung menyembunyikan rahasia ...   \n",
       "3  Park Dong Hoon adalah seorang insinyur paruh b...   \n",
       "4  Menceritakan kisah atlet baseball terkenal ber...   \n",
       "\n",
       "                                               genre  \\\n",
       "0                             Life,  Drama,  Family    \n",
       "1             Friendship,  Romance,  Life,  Medical    \n",
       "2            Thriller,  Romance,  Crime,  Melodrama    \n",
       "3  Business,  Psychological,  Life,  Drama,  Family    \n",
       "4                             Comedy,  Life,  Drama    \n",
       "\n",
       "                                                tags  rating  \\\n",
       "0  Autism, Father-Son Relationship, Uncle-Nephew ...     9.2   \n",
       "1  Strong Friendship, Doctor, Multiple Mains, Slo...     9.1   \n",
       "2  Married Couple, Deception, Suspense, Family Se...     9.1   \n",
       "3  Nice Male Lead, Strong Female Lead, Hardship, ...     9.1   \n",
       "4  Prison, Bromance, Wrongfully Accused, Life Les...     9.1   \n",
       "\n",
       "                                             funfact  \n",
       "0  Drama ini diadaptasi dari kisah nyata yaitu So...  \n",
       "1  Nama para tokoh Hospital Playlist diambil dari...  \n",
       "2  Judul drama ini terinspirasi dari buku puisi C...  \n",
       "3  Penggemar IU (pemeran wanita utama) merasa keb...  \n",
       "4  Latar tempat utama di drama ini adalah penjara...  "
      ]
     },
     "execution_count": 41,
     "metadata": {},
     "output_type": "execute_result"
    }
   ],
   "source": [
    "df.head()"
   ]
  },
  {
   "cell_type": "code",
   "execution_count": 42,
   "metadata": {},
   "outputs": [],
   "source": [
    "df = df.drop(['network', 'umur', 'sinopsis', 'tags', 'funfact'], axis=1)"
   ]
  },
  {
   "cell_type": "code",
   "execution_count": 43,
   "metadata": {
    "scrolled": true
   },
   "outputs": [
    {
     "data": {
      "text/html": [
       "<div>\n",
       "<style scoped>\n",
       "    .dataframe tbody tr th:only-of-type {\n",
       "        vertical-align: middle;\n",
       "    }\n",
       "\n",
       "    .dataframe tbody tr th {\n",
       "        vertical-align: top;\n",
       "    }\n",
       "\n",
       "    .dataframe thead th {\n",
       "        text-align: right;\n",
       "    }\n",
       "</style>\n",
       "<table border=\"1\" class=\"dataframe\">\n",
       "  <thead>\n",
       "    <tr style=\"text-align: right;\">\n",
       "      <th></th>\n",
       "      <th>Business</th>\n",
       "      <th>Comedy</th>\n",
       "      <th>Crime</th>\n",
       "      <th>D</th>\n",
       "      <th>Dr</th>\n",
       "      <th>Drama</th>\n",
       "      <th>Fa</th>\n",
       "      <th>Famil</th>\n",
       "      <th>Family</th>\n",
       "      <th>Fant</th>\n",
       "      <th>...</th>\n",
       "      <th>Military</th>\n",
       "      <th>Music</th>\n",
       "      <th>Mystery</th>\n",
       "      <th>Psychological</th>\n",
       "      <th>Romance</th>\n",
       "      <th>Suspense</th>\n",
       "      <th>Thriller</th>\n",
       "      <th>rating</th>\n",
       "      <th>tahun</th>\n",
       "      <th>episode</th>\n",
       "    </tr>\n",
       "  </thead>\n",
       "  <tbody>\n",
       "    <tr>\n",
       "      <th>0</th>\n",
       "      <td>0</td>\n",
       "      <td>0</td>\n",
       "      <td>0</td>\n",
       "      <td>0</td>\n",
       "      <td>0</td>\n",
       "      <td>1</td>\n",
       "      <td>0</td>\n",
       "      <td>0</td>\n",
       "      <td>1</td>\n",
       "      <td>0</td>\n",
       "      <td>...</td>\n",
       "      <td>0</td>\n",
       "      <td>0</td>\n",
       "      <td>0</td>\n",
       "      <td>0</td>\n",
       "      <td>0</td>\n",
       "      <td>0</td>\n",
       "      <td>0</td>\n",
       "      <td>9.2</td>\n",
       "      <td>2021</td>\n",
       "      <td>10</td>\n",
       "    </tr>\n",
       "    <tr>\n",
       "      <th>1</th>\n",
       "      <td>0</td>\n",
       "      <td>0</td>\n",
       "      <td>0</td>\n",
       "      <td>0</td>\n",
       "      <td>0</td>\n",
       "      <td>0</td>\n",
       "      <td>0</td>\n",
       "      <td>0</td>\n",
       "      <td>0</td>\n",
       "      <td>0</td>\n",
       "      <td>...</td>\n",
       "      <td>0</td>\n",
       "      <td>0</td>\n",
       "      <td>0</td>\n",
       "      <td>0</td>\n",
       "      <td>0</td>\n",
       "      <td>0</td>\n",
       "      <td>0</td>\n",
       "      <td>9.1</td>\n",
       "      <td>2020</td>\n",
       "      <td>12</td>\n",
       "    </tr>\n",
       "    <tr>\n",
       "      <th>2</th>\n",
       "      <td>0</td>\n",
       "      <td>0</td>\n",
       "      <td>1</td>\n",
       "      <td>0</td>\n",
       "      <td>0</td>\n",
       "      <td>0</td>\n",
       "      <td>0</td>\n",
       "      <td>0</td>\n",
       "      <td>0</td>\n",
       "      <td>0</td>\n",
       "      <td>...</td>\n",
       "      <td>0</td>\n",
       "      <td>0</td>\n",
       "      <td>0</td>\n",
       "      <td>0</td>\n",
       "      <td>0</td>\n",
       "      <td>0</td>\n",
       "      <td>1</td>\n",
       "      <td>9.1</td>\n",
       "      <td>2020</td>\n",
       "      <td>16</td>\n",
       "    </tr>\n",
       "    <tr>\n",
       "      <th>3</th>\n",
       "      <td>0</td>\n",
       "      <td>0</td>\n",
       "      <td>0</td>\n",
       "      <td>0</td>\n",
       "      <td>0</td>\n",
       "      <td>1</td>\n",
       "      <td>0</td>\n",
       "      <td>0</td>\n",
       "      <td>1</td>\n",
       "      <td>0</td>\n",
       "      <td>...</td>\n",
       "      <td>0</td>\n",
       "      <td>0</td>\n",
       "      <td>0</td>\n",
       "      <td>0</td>\n",
       "      <td>0</td>\n",
       "      <td>0</td>\n",
       "      <td>0</td>\n",
       "      <td>9.1</td>\n",
       "      <td>2018</td>\n",
       "      <td>16</td>\n",
       "    </tr>\n",
       "    <tr>\n",
       "      <th>4</th>\n",
       "      <td>0</td>\n",
       "      <td>0</td>\n",
       "      <td>0</td>\n",
       "      <td>0</td>\n",
       "      <td>0</td>\n",
       "      <td>1</td>\n",
       "      <td>0</td>\n",
       "      <td>0</td>\n",
       "      <td>0</td>\n",
       "      <td>0</td>\n",
       "      <td>...</td>\n",
       "      <td>0</td>\n",
       "      <td>0</td>\n",
       "      <td>0</td>\n",
       "      <td>0</td>\n",
       "      <td>0</td>\n",
       "      <td>0</td>\n",
       "      <td>0</td>\n",
       "      <td>9.1</td>\n",
       "      <td>2017</td>\n",
       "      <td>16</td>\n",
       "    </tr>\n",
       "  </tbody>\n",
       "</table>\n",
       "<p>5 rows × 67 columns</p>\n",
       "</div>"
      ],
      "text/plain": [
       "     Business    Comedy    Crime    D    Dr    Drama    Fa    Famil    Family  \\\n",
       "0           0         0        0    0     0        1     0        0         1   \n",
       "1           0         0        0    0     0        0     0        0         0   \n",
       "2           0         0        1    0     0        0     0        0         0   \n",
       "3           0         0        0    0     0        1     0        0         1   \n",
       "4           0         0        0    0     0        1     0        0         0   \n",
       "\n",
       "     Fant  ...  Military  Music  Mystery  Psychological  Romance  Suspense  \\\n",
       "0       0  ...         0      0        0              0        0         0   \n",
       "1       0  ...         0      0        0              0        0         0   \n",
       "2       0  ...         0      0        0              0        0         0   \n",
       "3       0  ...         0      0        0              0        0         0   \n",
       "4       0  ...         0      0        0              0        0         0   \n",
       "\n",
       "   Thriller  rating  tahun  episode  \n",
       "0         0     9.2   2021       10  \n",
       "1         0     9.1   2020       12  \n",
       "2         1     9.1   2020       16  \n",
       "3         0     9.1   2018       16  \n",
       "4         0     9.1   2017       16  \n",
       "\n",
       "[5 rows x 67 columns]"
      ]
     },
     "execution_count": 43,
     "metadata": {},
     "output_type": "execute_result"
    }
   ],
   "source": [
    "df_features = pd.concat([df['genre'].str.strip().str.get_dummies(sep=','), df[['rating']],df[['tahun']],df[['episode']]],axis=1)\n",
    "\n",
    "df['judul'] = df['judul'].map(lambda judul:re.sub('[^A-Za-z0-9]+',' ', judul))\n",
    "df_features.head()"
   ]
  },
  {
   "cell_type": "code",
   "execution_count": 44,
   "metadata": {},
   "outputs": [
    {
     "data": {
      "text/plain": [
       "Index(['  Business', '  Comedy', '  Crime', '  D', '  Dr', '  Drama', '  Fa',\n",
       "       '  Famil', '  Family', '  Fant', '  Fantasy', '  Friendship',\n",
       "       '  Historical', '  Horror', '  Invest', '  Investigation', '  Law',\n",
       "       '  Life', '  M', '  Martial Arts', '  Me', '  Medica', '  Medical',\n",
       "       '  Melo', '  Melodrama', '  Military', '  Myster', '  Mystery', '  Pol',\n",
       "       '  Polit', '  Political', '  Psychological', '  Romance', '  S',\n",
       "       '  School', '  Sci-Fi', '  Sports', '  Sup', '  Super', '  Supernat',\n",
       "       '  Supernatu', '  Supernatural', '  Suspense', '  Thriller', '  Y',\n",
       "       '  Yo', '  Youth', '  Zombies', 'Action', 'Business', 'Comedy', 'Drama',\n",
       "       'Food', 'Friendship', 'Historical', 'Horror', 'Life', 'Military',\n",
       "       'Music', 'Mystery', 'Psychological', 'Romance', 'Suspense', 'Thriller',\n",
       "       'rating', 'tahun', 'episode'],\n",
       "      dtype='object')"
      ]
     },
     "execution_count": 44,
     "metadata": {},
     "output_type": "execute_result"
    }
   ],
   "source": [
    "df_features.columns"
   ]
  },
  {
   "cell_type": "code",
   "execution_count": 45,
   "metadata": {
    "id": "Oi7oBBtB9hGO"
   },
   "outputs": [],
   "source": [
    "from sklearn.preprocessing import MinMaxScaler"
   ]
  },
  {
   "cell_type": "code",
   "execution_count": 46,
   "metadata": {
    "id": "VvLyGcWf9vlG"
   },
   "outputs": [],
   "source": [
    "min_max_scaler = MinMaxScaler()\n",
    "df_features = min_max_scaler.fit_transform(df_features)"
   ]
  },
  {
   "cell_type": "code",
   "execution_count": 47,
   "metadata": {
    "colab": {
     "base_uri": "https://localhost:8080/"
    },
    "id": "H-V4mSJH-DNy",
    "outputId": "dd6cda41-44d1-4c44-b4fa-3259c63dd331"
   },
   "outputs": [
    {
     "data": {
      "text/plain": [
       "array([[0.  , 0.  , 0.  , ..., 1.  , 1.  , 0.04],\n",
       "       [0.  , 0.  , 0.  , ..., 0.86, 0.94, 0.06],\n",
       "       [0.  , 0.  , 1.  , ..., 0.86, 0.94, 0.11],\n",
       "       ...,\n",
       "       [0.  , 1.  , 0.  , ..., 0.  , 0.89, 0.11],\n",
       "       [0.  , 0.  , 0.  , ..., 0.  , 1.  , 0.07],\n",
       "       [0.  , 0.  , 0.  , ..., 0.  , 0.44, 0.19]])"
      ]
     },
     "execution_count": 47,
     "metadata": {},
     "output_type": "execute_result"
    }
   ],
   "source": [
    "np.round(df_features, 2)"
   ]
  },
  {
   "cell_type": "code",
   "execution_count": 48,
   "metadata": {
    "id": "KIaK16Vn-e_d"
   },
   "outputs": [],
   "source": [
    "from sklearn.neighbors import NearestNeighbors"
   ]
  },
  {
   "cell_type": "code",
   "execution_count": 49,
   "metadata": {
    "id": "qJY1I8X1-tIR"
   },
   "outputs": [],
   "source": [
    "nbrs = NearestNeighbors(n_neighbors=6, algorithm='ball_tree')"
   ]
  },
  {
   "cell_type": "code",
   "execution_count": 50,
   "metadata": {},
   "outputs": [
    {
     "data": {
      "text/plain": [
       "array([[0.        , 0.        , 0.        , ..., 1.        , 1.        ,\n",
       "        0.04255319],\n",
       "       [0.        , 0.        , 0.        , ..., 0.85714286, 0.94444444,\n",
       "        0.06382979],\n",
       "       [0.        , 0.        , 1.        , ..., 0.85714286, 0.94444444,\n",
       "        0.10638298],\n",
       "       ...,\n",
       "       [0.        , 1.        , 0.        , ..., 0.        , 0.88888889,\n",
       "        0.10638298],\n",
       "       [0.        , 0.        , 0.        , ..., 0.        , 1.        ,\n",
       "        0.07446809],\n",
       "       [0.        , 0.        , 0.        , ..., 0.        , 0.44444444,\n",
       "        0.19148936]])"
      ]
     },
     "execution_count": 50,
     "metadata": {},
     "output_type": "execute_result"
    }
   ],
   "source": [
    "df_features"
   ]
  },
  {
   "cell_type": "code",
   "execution_count": 51,
   "metadata": {
    "scrolled": true
   },
   "outputs": [
    {
     "ename": "NotFittedError",
     "evalue": "This NearestNeighbors instance is not fitted yet. Call 'fit' with appropriate arguments before using this estimator.",
     "output_type": "error",
     "traceback": [
      "\u001b[0;31m---------------------------------------------------------------------------\u001b[0m",
      "\u001b[0;31mNotFittedError\u001b[0m                            Traceback (most recent call last)",
      "Cell \u001b[0;32mIn[51], line 1\u001b[0m\n\u001b[0;32m----> 1\u001b[0m distances, indices \u001b[38;5;241m=\u001b[39m \u001b[43mnbrs\u001b[49m\u001b[38;5;241;43m.\u001b[39;49m\u001b[43mkneighbors\u001b[49m\u001b[43m(\u001b[49m\u001b[43mdf_features\u001b[49m\u001b[43m)\u001b[49m\n\u001b[1;32m      2\u001b[0m prediction \u001b[38;5;241m=\u001b[39m []\n\u001b[1;32m      3\u001b[0m found_rank \u001b[38;5;241m=\u001b[39m get_index_from_name(\u001b[38;5;124m'\u001b[39m\u001b[38;5;124mMove to Heaven\u001b[39m\u001b[38;5;124m'\u001b[39m)\n",
      "File \u001b[0;32m/Library/Frameworks/Python.framework/Versions/3.9/lib/python3.9/site-packages/sklearn/neighbors/_base.py:649\u001b[0m, in \u001b[0;36mKNeighborsMixin.kneighbors\u001b[0;34m(self, X, n_neighbors, return_distance)\u001b[0m\n\u001b[1;32m    596\u001b[0m \u001b[38;5;28;01mdef\u001b[39;00m \u001b[38;5;21mkneighbors\u001b[39m(\u001b[38;5;28mself\u001b[39m, X\u001b[38;5;241m=\u001b[39m\u001b[38;5;28;01mNone\u001b[39;00m, n_neighbors\u001b[38;5;241m=\u001b[39m\u001b[38;5;28;01mNone\u001b[39;00m, return_distance\u001b[38;5;241m=\u001b[39m\u001b[38;5;28;01mTrue\u001b[39;00m):\n\u001b[1;32m    597\u001b[0m     \u001b[38;5;124;03m\"\"\"Finds the K-neighbors of a point.\u001b[39;00m\n\u001b[1;32m    598\u001b[0m \n\u001b[1;32m    599\u001b[0m \u001b[38;5;124;03m    Returns indices of and distances to the neighbors of each point.\u001b[39;00m\n\u001b[0;32m   (...)\u001b[0m\n\u001b[1;32m    647\u001b[0m \u001b[38;5;124;03m           [2]]...)\u001b[39;00m\n\u001b[1;32m    648\u001b[0m \u001b[38;5;124;03m    \"\"\"\u001b[39;00m\n\u001b[0;32m--> 649\u001b[0m     \u001b[43mcheck_is_fitted\u001b[49m\u001b[43m(\u001b[49m\u001b[38;5;28;43mself\u001b[39;49m\u001b[43m)\u001b[49m\n\u001b[1;32m    651\u001b[0m     \u001b[38;5;28;01mif\u001b[39;00m n_neighbors \u001b[38;5;129;01mis\u001b[39;00m \u001b[38;5;28;01mNone\u001b[39;00m:\n\u001b[1;32m    652\u001b[0m         n_neighbors \u001b[38;5;241m=\u001b[39m \u001b[38;5;28mself\u001b[39m\u001b[38;5;241m.\u001b[39mn_neighbors\n",
      "File \u001b[0;32m/Library/Frameworks/Python.framework/Versions/3.9/lib/python3.9/site-packages/sklearn/utils/validation.py:63\u001b[0m, in \u001b[0;36m_deprecate_positional_args.<locals>._inner_deprecate_positional_args.<locals>.inner_f\u001b[0;34m(*args, **kwargs)\u001b[0m\n\u001b[1;32m     61\u001b[0m extra_args \u001b[38;5;241m=\u001b[39m \u001b[38;5;28mlen\u001b[39m(args) \u001b[38;5;241m-\u001b[39m \u001b[38;5;28mlen\u001b[39m(all_args)\n\u001b[1;32m     62\u001b[0m \u001b[38;5;28;01mif\u001b[39;00m extra_args \u001b[38;5;241m<\u001b[39m\u001b[38;5;241m=\u001b[39m \u001b[38;5;241m0\u001b[39m:\n\u001b[0;32m---> 63\u001b[0m     \u001b[38;5;28;01mreturn\u001b[39;00m \u001b[43mf\u001b[49m\u001b[43m(\u001b[49m\u001b[38;5;241;43m*\u001b[39;49m\u001b[43margs\u001b[49m\u001b[43m,\u001b[49m\u001b[43m \u001b[49m\u001b[38;5;241;43m*\u001b[39;49m\u001b[38;5;241;43m*\u001b[39;49m\u001b[43mkwargs\u001b[49m\u001b[43m)\u001b[49m\n\u001b[1;32m     65\u001b[0m \u001b[38;5;66;03m# extra_args > 0\u001b[39;00m\n\u001b[1;32m     66\u001b[0m args_msg \u001b[38;5;241m=\u001b[39m [\u001b[38;5;124m'\u001b[39m\u001b[38;5;132;01m{}\u001b[39;00m\u001b[38;5;124m=\u001b[39m\u001b[38;5;132;01m{}\u001b[39;00m\u001b[38;5;124m'\u001b[39m\u001b[38;5;241m.\u001b[39mformat(name, arg)\n\u001b[1;32m     67\u001b[0m             \u001b[38;5;28;01mfor\u001b[39;00m name, arg \u001b[38;5;129;01min\u001b[39;00m \u001b[38;5;28mzip\u001b[39m(kwonly_args[:extra_args],\n\u001b[1;32m     68\u001b[0m                                  args[\u001b[38;5;241m-\u001b[39mextra_args:])]\n",
      "File \u001b[0;32m/Library/Frameworks/Python.framework/Versions/3.9/lib/python3.9/site-packages/sklearn/utils/validation.py:1098\u001b[0m, in \u001b[0;36mcheck_is_fitted\u001b[0;34m(estimator, attributes, msg, all_or_any)\u001b[0m\n\u001b[1;32m   1094\u001b[0m     attrs \u001b[38;5;241m=\u001b[39m [v \u001b[38;5;28;01mfor\u001b[39;00m v \u001b[38;5;129;01min\u001b[39;00m \u001b[38;5;28mvars\u001b[39m(estimator)\n\u001b[1;32m   1095\u001b[0m              \u001b[38;5;28;01mif\u001b[39;00m v\u001b[38;5;241m.\u001b[39mendswith(\u001b[38;5;124m\"\u001b[39m\u001b[38;5;124m_\u001b[39m\u001b[38;5;124m\"\u001b[39m) \u001b[38;5;129;01mand\u001b[39;00m \u001b[38;5;129;01mnot\u001b[39;00m v\u001b[38;5;241m.\u001b[39mstartswith(\u001b[38;5;124m\"\u001b[39m\u001b[38;5;124m__\u001b[39m\u001b[38;5;124m\"\u001b[39m)]\n\u001b[1;32m   1097\u001b[0m \u001b[38;5;28;01mif\u001b[39;00m \u001b[38;5;129;01mnot\u001b[39;00m attrs:\n\u001b[0;32m-> 1098\u001b[0m     \u001b[38;5;28;01mraise\u001b[39;00m NotFittedError(msg \u001b[38;5;241m%\u001b[39m {\u001b[38;5;124m'\u001b[39m\u001b[38;5;124mname\u001b[39m\u001b[38;5;124m'\u001b[39m: \u001b[38;5;28mtype\u001b[39m(estimator)\u001b[38;5;241m.\u001b[39m\u001b[38;5;18m__name__\u001b[39m})\n",
      "\u001b[0;31mNotFittedError\u001b[0m: This NearestNeighbors instance is not fitted yet. Call 'fit' with appropriate arguments before using this estimator."
     ]
    }
   ],
   "source": [
    "# distances, indices = nbrs.kneighbors(df_features)\n",
    "# prediction = []\n",
    "# found_rank = get_index_from_name('Move to Heaven')\n",
    "# for rank in indices[found_rank][1:]:\n",
    "#     prediction.append(df.iloc[rank]['judul'])"
   ]
  },
  {
   "cell_type": "code",
   "execution_count": null,
   "metadata": {},
   "outputs": [],
   "source": [
    "def get_index_from_name(judul):\n",
    "  search_result = df[df['judul']==judul].index.tolist()\n",
    "  if not search_result:\n",
    "    return -1\n",
    "  return search_result[0]\n",
    "\n",
    "all_drama_names = list(df.judul.values)\n",
    "\n",
    "def get_id_from_partial_name(partial):\n",
    "  for judul in all_drama_names:\n",
    "    if partial in judul:\n",
    "      print(judul,all_drama_names.index(judul))\n",
    "\n",
    "def print_similar_drama(query=None, rank=None):\n",
    "  if rank:\n",
    "    for rank in indices[rank][1:]:\n",
    "      print(df.iloc[rank]['judul'])\n",
    "  if query:\n",
    "    found_rank = get_index_from_name(query)\n",
    "    for rank in indices[found_rank][1:]:\n",
    "      print(df.iloc[rank]['judul'])\n",
    "    \n",
    "def get_name(judul):\n",
    "    df = df[df['judul'] == judul]    \n",
    "    df_feature = pd.concat([df['genre'].str.strip().str.get_dummies(sep=','), df[['rating']],df[['tahun']],df[['episode']]],axis=1)\n",
    "    return df_feature"
   ]
  },
  {
   "cell_type": "code",
   "execution_count": null,
   "metadata": {},
   "outputs": [],
   "source": [
    "import joblib\n",
    "from sklearn.pipeline import make_pipeline"
   ]
  },
  {
   "cell_type": "code",
   "execution_count": null,
   "metadata": {},
   "outputs": [],
   "source": [
    "# pipeline = make_pipeline(MinMaxScaler(), nbrs)\n",
    "# pipeline.fit(df_features)\n",
    "\n",
    "joblib.dump(nbrs, '../data/output/redrakor.joblib')"
   ]
  },
  {
   "cell_type": "code",
   "execution_count": null,
   "metadata": {},
   "outputs": [],
   "source": [
    "joblib.dump(df_features, 'minmax.joblib')"
   ]
  }
 ],
 "metadata": {
  "colab": {
   "provenance": []
  },
  "kernelspec": {
   "display_name": "Python 3 (ipykernel)",
   "language": "python",
   "name": "python3"
  },
  "language_info": {
   "codemirror_mode": {
    "name": "ipython",
    "version": 3
   },
   "file_extension": ".py",
   "mimetype": "text/x-python",
   "name": "python",
   "nbconvert_exporter": "python",
   "pygments_lexer": "ipython3",
   "version": "3.9.5"
  },
  "vscode": {
   "interpreter": {
    "hash": "31f2aee4e71d21fbe5cf8b01ff0e069b9275f58929596ceb00d14d90e3e16cd6"
   }
  }
 },
 "nbformat": 4,
 "nbformat_minor": 1
}
