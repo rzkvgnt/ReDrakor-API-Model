{
  "cells": [
    {
      "cell_type": "code",
      "execution_count": 2,
      "metadata": {
        "id": "HmELOBqTP3nw"
      },
      "outputs": [],
      "source": [
        "import numpy as np \n",
        "import pandas as pd \n",
        "import seaborn as sns\n",
        "from matplotlib import pyplot as plt\n",
        "import  re"
      ]
    },
    {
      "cell_type": "code",
      "execution_count": 3,
      "metadata": {
        "id": "X0iUOYuEpnRQ"
      },
      "outputs": [],
      "source": [
        "import warnings\n",
        "warnings.filterwarnings(\"ignore\", category=DeprecationWarning)"
      ]
    },
    {
      "cell_type": "code",
      "execution_count": 3,
      "metadata": {
        "colab": {
          "base_uri": "https://localhost:8080/"
        },
        "id": "17WrErn9p7jI",
        "outputId": "4e3fd7df-cf3c-40a7-9557-d685fca92cf8"
      },
      "outputs": [
        {
          "name": "stdout",
          "output_type": "stream",
          "text": [
            "Mounted at /content/drive\n"
          ]
        }
      ],
      "source": [
        "#import os\n",
        "#from google.colab import drive\n",
        "#drive.mount('/content/drive')"
      ]
    },
    {
      "cell_type": "code",
      "execution_count": 4,
      "metadata": {
        "id": "m1seQbztp-XZ"
      },
      "outputs": [],
      "source": [
        "df = pd.read_csv('tb_redrakor.csv')"
      ]
    },
    {
      "cell_type": "code",
      "execution_count": 5,
      "metadata": {
        "colab": {
          "base_uri": "https://localhost:8080/",
          "height": 458
        },
        "id": "wMFnmwBOqGf8",
        "outputId": "fde84c85-2478-4d36-9713-3c93e21002ae"
      },
      "outputs": [
        {
          "data": {
            "text/html": [
              "<div>\n",
              "<style scoped>\n",
              "    .dataframe tbody tr th:only-of-type {\n",
              "        vertical-align: middle;\n",
              "    }\n",
              "\n",
              "    .dataframe tbody tr th {\n",
              "        vertical-align: top;\n",
              "    }\n",
              "\n",
              "    .dataframe thead th {\n",
              "        text-align: right;\n",
              "    }\n",
              "</style>\n",
              "<table border=\"1\" class=\"dataframe\">\n",
              "  <thead>\n",
              "    <tr style=\"text-align: right;\">\n",
              "      <th></th>\n",
              "      <th>rank</th>\n",
              "      <th>judul</th>\n",
              "      <th>tahun</th>\n",
              "      <th>episode</th>\n",
              "      <th>network</th>\n",
              "      <th>umur</th>\n",
              "      <th>sinopsis</th>\n",
              "      <th>genre</th>\n",
              "      <th>tags</th>\n",
              "      <th>rating</th>\n",
              "      <th>funfact</th>\n",
              "    </tr>\n",
              "  </thead>\n",
              "  <tbody>\n",
              "    <tr>\n",
              "      <th>0</th>\n",
              "      <td>1</td>\n",
              "      <td>Move to Heaven</td>\n",
              "      <td>2021</td>\n",
              "      <td>10</td>\n",
              "      <td>Netflix</td>\n",
              "      <td>18+</td>\n",
              "      <td>Menceritakan kisah dari Han Geu-Roo yang mende...</td>\n",
              "      <td>Life,  Drama,  Family</td>\n",
              "      <td>Autism, Father-Son Relationship, Uncle-Nephew ...</td>\n",
              "      <td>9.2</td>\n",
              "      <td>Drama ini diadaptasi dari kisah nyata yaitu So...</td>\n",
              "    </tr>\n",
              "    <tr>\n",
              "      <th>1</th>\n",
              "      <td>2</td>\n",
              "      <td>Hospital Playlist</td>\n",
              "      <td>2020</td>\n",
              "      <td>12</td>\n",
              "      <td>tvN, Netflix</td>\n",
              "      <td>15+</td>\n",
              "      <td>Kisah-kisah tentang orang-orang yang menjalani...</td>\n",
              "      <td>Friendship,  Romance,  Life,  Medical</td>\n",
              "      <td>Strong Friendship, Doctor, Multiple Mains, Slo...</td>\n",
              "      <td>9.1</td>\n",
              "      <td>Nama para tokoh Hospital Playlist diambil dari...</td>\n",
              "    </tr>\n",
              "    <tr>\n",
              "      <th>2</th>\n",
              "      <td>3</td>\n",
              "      <td>Flower of Evil</td>\n",
              "      <td>2020</td>\n",
              "      <td>16</td>\n",
              "      <td>tvN, Netflix, Vidio, iQIYI, viu, Amazon Prime ...</td>\n",
              "      <td>15+</td>\n",
              "      <td>Meskipun Baek Hee Sung menyembunyikan rahasia ...</td>\n",
              "      <td>Thriller,  Romance,  Crime,  Melodrama</td>\n",
              "      <td>Married Couple, Deception, Suspense, Family Se...</td>\n",
              "      <td>9.1</td>\n",
              "      <td>Judul drama ini terinspirasi dari buku puisi C...</td>\n",
              "    </tr>\n",
              "    <tr>\n",
              "      <th>3</th>\n",
              "      <td>4</td>\n",
              "      <td>My Mister</td>\n",
              "      <td>2018</td>\n",
              "      <td>16</td>\n",
              "      <td>tvN, Netflix, Vidio, iQIYI, Viu</td>\n",
              "      <td>15+</td>\n",
              "      <td>Park Dong Hoon adalah seorang insinyur paruh b...</td>\n",
              "      <td>Business,  Psychological,  Life,  Drama,  Family</td>\n",
              "      <td>Nice Male Lead, Strong Female Lead, Hardship, ...</td>\n",
              "      <td>9.1</td>\n",
              "      <td>Penggemar IU (pemeran wanita utama) merasa keb...</td>\n",
              "    </tr>\n",
              "    <tr>\n",
              "      <th>4</th>\n",
              "      <td>5</td>\n",
              "      <td>Prison Playbook</td>\n",
              "      <td>2017</td>\n",
              "      <td>16</td>\n",
              "      <td>tvN,  Netflix, Disney+, Viu, Vidio, iQIYI, Ama...</td>\n",
              "      <td>15+</td>\n",
              "      <td>Menceritakan kisah atlet baseball terkenal ber...</td>\n",
              "      <td>Comedy,  Life,  Drama</td>\n",
              "      <td>Prison, Bromance, Wrongfully Accused, Life Les...</td>\n",
              "      <td>9.1</td>\n",
              "      <td>Latar tempat utama di drama ini adalah penjara...</td>\n",
              "    </tr>\n",
              "  </tbody>\n",
              "</table>\n",
              "</div>"
            ],
            "text/plain": [
              "   rank              judul  tahun  episode  \\\n",
              "0     1     Move to Heaven   2021       10   \n",
              "1     2  Hospital Playlist   2020       12   \n",
              "2     3     Flower of Evil   2020       16   \n",
              "3     4          My Mister   2018       16   \n",
              "4     5    Prison Playbook   2017       16   \n",
              "\n",
              "                                             network umur  \\\n",
              "0                                            Netflix  18+   \n",
              "1                                      tvN, Netflix   15+   \n",
              "2  tvN, Netflix, Vidio, iQIYI, viu, Amazon Prime ...  15+   \n",
              "3                    tvN, Netflix, Vidio, iQIYI, Viu  15+   \n",
              "4  tvN,  Netflix, Disney+, Viu, Vidio, iQIYI, Ama...  15+   \n",
              "\n",
              "                                            sinopsis  \\\n",
              "0  Menceritakan kisah dari Han Geu-Roo yang mende...   \n",
              "1  Kisah-kisah tentang orang-orang yang menjalani...   \n",
              "2  Meskipun Baek Hee Sung menyembunyikan rahasia ...   \n",
              "3  Park Dong Hoon adalah seorang insinyur paruh b...   \n",
              "4  Menceritakan kisah atlet baseball terkenal ber...   \n",
              "\n",
              "                                               genre  \\\n",
              "0                             Life,  Drama,  Family    \n",
              "1             Friendship,  Romance,  Life,  Medical    \n",
              "2            Thriller,  Romance,  Crime,  Melodrama    \n",
              "3  Business,  Psychological,  Life,  Drama,  Family    \n",
              "4                             Comedy,  Life,  Drama    \n",
              "\n",
              "                                                tags  rating  \\\n",
              "0  Autism, Father-Son Relationship, Uncle-Nephew ...     9.2   \n",
              "1  Strong Friendship, Doctor, Multiple Mains, Slo...     9.1   \n",
              "2  Married Couple, Deception, Suspense, Family Se...     9.1   \n",
              "3  Nice Male Lead, Strong Female Lead, Hardship, ...     9.1   \n",
              "4  Prison, Bromance, Wrongfully Accused, Life Les...     9.1   \n",
              "\n",
              "                                             funfact  \n",
              "0  Drama ini diadaptasi dari kisah nyata yaitu So...  \n",
              "1  Nama para tokoh Hospital Playlist diambil dari...  \n",
              "2  Judul drama ini terinspirasi dari buku puisi C...  \n",
              "3  Penggemar IU (pemeran wanita utama) merasa keb...  \n",
              "4  Latar tempat utama di drama ini adalah penjara...  "
            ]
          },
          "execution_count": 5,
          "metadata": {},
          "output_type": "execute_result"
        }
      ],
      "source": [
        "df.head()"
      ]
    },
    {
      "cell_type": "code",
      "execution_count": 6,
      "metadata": {
        "colab": {
          "base_uri": "https://localhost:8080/"
        },
        "id": "RrqXXJHoqIZg",
        "outputId": "255ecb92-02bc-4b72-be44-c43a1712662e"
      },
      "outputs": [
        {
          "data": {
            "text/plain": [
              "rank        0\n",
              "judul       0\n",
              "tahun       0\n",
              "episode     0\n",
              "network     0\n",
              "umur        0\n",
              "sinopsis    0\n",
              "genre       0\n",
              "tags        0\n",
              "rating      0\n",
              "funfact     0\n",
              "dtype: int64"
            ]
          },
          "execution_count": 6,
          "metadata": {},
          "output_type": "execute_result"
        }
      ],
      "source": [
        "df.isnull().sum()"
      ]
    },
    {
      "cell_type": "code",
      "execution_count": 7,
      "metadata": {
        "colab": {
          "base_uri": "https://localhost:8080/",
          "height": 49
        },
        "id": "yoY8LkXJqQtg",
        "outputId": "bc5fdf57-cfd8-493f-c3b9-eb6963d26063"
      },
      "outputs": [
        {
          "data": {
            "text/html": [
              "<div>\n",
              "<style scoped>\n",
              "    .dataframe tbody tr th:only-of-type {\n",
              "        vertical-align: middle;\n",
              "    }\n",
              "\n",
              "    .dataframe tbody tr th {\n",
              "        vertical-align: top;\n",
              "    }\n",
              "\n",
              "    .dataframe thead th {\n",
              "        text-align: right;\n",
              "    }\n",
              "</style>\n",
              "<table border=\"1\" class=\"dataframe\">\n",
              "  <thead>\n",
              "    <tr style=\"text-align: right;\">\n",
              "      <th></th>\n",
              "      <th>rank</th>\n",
              "      <th>judul</th>\n",
              "      <th>tahun</th>\n",
              "      <th>episode</th>\n",
              "      <th>network</th>\n",
              "      <th>umur</th>\n",
              "      <th>sinopsis</th>\n",
              "      <th>genre</th>\n",
              "      <th>tags</th>\n",
              "      <th>rating</th>\n",
              "      <th>funfact</th>\n",
              "    </tr>\n",
              "  </thead>\n",
              "  <tbody>\n",
              "  </tbody>\n",
              "</table>\n",
              "</div>"
            ],
            "text/plain": [
              "Empty DataFrame\n",
              "Columns: [rank, judul, tahun, episode, network, umur, sinopsis, genre, tags, rating, funfact]\n",
              "Index: []"
            ]
          },
          "execution_count": 7,
          "metadata": {},
          "output_type": "execute_result"
        }
      ],
      "source": [
        "df[df['tahun'] == 'Unknow'].head(3)"
      ]
    },
    {
      "cell_type": "code",
      "execution_count": 8,
      "metadata": {
        "id": "8N8_JNuXqe5f"
      },
      "outputs": [],
      "source": [
        "df.loc[(df['genre'] == 'Romance') & (df['tahun'] == 'Unknow'), 'tahun'] = '1'\n",
        "df.loc[(df['network'] == 'tvN') & (df['tahun'] == 'Unknow'), 'tahun'] = '1'\n",
        "df.loc[(df['network'] == 'Netflix') & (df['tahun'] == 'Unknow'), 'tahun'] = '1'"
      ]
    },
    {
      "cell_type": "code",
      "execution_count": 9,
      "metadata": {
        "id": "fRzoQlairUd6"
      },
      "outputs": [],
      "source": [
        "known_df = {'Move to Heaven':10, 'Hospital Playlist':12, 'Flower of Evil':16, 'My Mister':16, 'Reply 1988':20, 'Signal':16, 'Navillera':12\n",
        "            ,'Mr. Queen':20, 'Kingdom':6}"
      ]
    },
    {
      "cell_type": "code",
      "execution_count": 10,
      "metadata": {
        "id": "zQh1qjt_s4TZ"
      },
      "outputs": [],
      "source": [
        "for k,v in known_df.items():\n",
        "  df.loc[df['judul']==k,'tahun']=v"
      ]
    },
    {
      "cell_type": "code",
      "execution_count": 11,
      "metadata": {
        "id": "nYsfQ3_Bte__"
      },
      "outputs": [],
      "source": [
        "df['tahun'] = df['tahun'].map(lambda x:np.nan if x=='Unknow' else x)"
      ]
    },
    {
      "cell_type": "code",
      "execution_count": 12,
      "metadata": {
        "id": "nOj4WVXCuAZ9"
      },
      "outputs": [],
      "source": [
        "df['tahun'].fillna(df['tahun'].median(), inplace = True)"
      ]
    },
    {
      "cell_type": "code",
      "execution_count": 13,
      "metadata": {
        "colab": {
          "base_uri": "https://localhost:8080/",
          "height": 386
        },
        "id": "X-gNwCr4uL3G",
        "outputId": "c646a0c5-50a1-468e-b683-773199bb23f7"
      },
      "outputs": [
        {
          "data": {
            "text/html": [
              "<div>\n",
              "<style scoped>\n",
              "    .dataframe tbody tr th:only-of-type {\n",
              "        vertical-align: middle;\n",
              "    }\n",
              "\n",
              "    .dataframe tbody tr th {\n",
              "        vertical-align: top;\n",
              "    }\n",
              "\n",
              "    .dataframe thead th {\n",
              "        text-align: right;\n",
              "    }\n",
              "</style>\n",
              "<table border=\"1\" class=\"dataframe\">\n",
              "  <thead>\n",
              "    <tr style=\"text-align: right;\">\n",
              "      <th></th>\n",
              "      <th>network_KBS2</th>\n",
              "      <th>network_KBS2,  Netflix</th>\n",
              "      <th>network_KBS2, Viki, Netflix</th>\n",
              "      <th>network_KBS2, Viki, Netflix, Apple TV</th>\n",
              "      <th>network_KBS2, Viki, Netflix, Prime Video</th>\n",
              "      <th>network_KBS2, WeTV, Netflix, Iflix, Apple TV, Viki</th>\n",
              "      <th>network_MBC</th>\n",
              "      <th>network_MBC, Viki</th>\n",
              "      <th>network_MBC, Viki, Netflix, Apple TV, Prime Video</th>\n",
              "      <th>network_MBC, iQIYI, Viu, WeTV</th>\n",
              "      <th>...</th>\n",
              "      <th>network_tvN, Netflix, Vidio, Viu</th>\n",
              "      <th>network_tvN, Netflix, Vidio, iQIYI, Viu</th>\n",
              "      <th>network_tvN, Netflix, Vidio, iQIYI, viu, Amazon Prime Vide</th>\n",
              "      <th>network_tvN, Netflix, Viu, Vidio, iQIYI, Amazon Prime Vide</th>\n",
              "      <th>network_tvN, Vidio, Amazon Prime Video</th>\n",
              "      <th>network_tvN, Vidio, Disney+</th>\n",
              "      <th>network_tvN, Viki, WeTV</th>\n",
              "      <th>network_tvN, Viki, WeTV, Apple TV</th>\n",
              "      <th>network_tvN, Viu</th>\n",
              "      <th>network_tvN, Viu, Vidio</th>\n",
              "    </tr>\n",
              "  </thead>\n",
              "  <tbody>\n",
              "    <tr>\n",
              "      <th>0</th>\n",
              "      <td>0</td>\n",
              "      <td>0</td>\n",
              "      <td>0</td>\n",
              "      <td>0</td>\n",
              "      <td>0</td>\n",
              "      <td>0</td>\n",
              "      <td>0</td>\n",
              "      <td>0</td>\n",
              "      <td>0</td>\n",
              "      <td>0</td>\n",
              "      <td>...</td>\n",
              "      <td>0</td>\n",
              "      <td>0</td>\n",
              "      <td>0</td>\n",
              "      <td>0</td>\n",
              "      <td>0</td>\n",
              "      <td>0</td>\n",
              "      <td>0</td>\n",
              "      <td>0</td>\n",
              "      <td>0</td>\n",
              "      <td>0</td>\n",
              "    </tr>\n",
              "    <tr>\n",
              "      <th>1</th>\n",
              "      <td>0</td>\n",
              "      <td>0</td>\n",
              "      <td>0</td>\n",
              "      <td>0</td>\n",
              "      <td>0</td>\n",
              "      <td>0</td>\n",
              "      <td>0</td>\n",
              "      <td>0</td>\n",
              "      <td>0</td>\n",
              "      <td>0</td>\n",
              "      <td>...</td>\n",
              "      <td>0</td>\n",
              "      <td>0</td>\n",
              "      <td>0</td>\n",
              "      <td>0</td>\n",
              "      <td>0</td>\n",
              "      <td>0</td>\n",
              "      <td>0</td>\n",
              "      <td>0</td>\n",
              "      <td>0</td>\n",
              "      <td>0</td>\n",
              "    </tr>\n",
              "    <tr>\n",
              "      <th>2</th>\n",
              "      <td>0</td>\n",
              "      <td>0</td>\n",
              "      <td>0</td>\n",
              "      <td>0</td>\n",
              "      <td>0</td>\n",
              "      <td>0</td>\n",
              "      <td>0</td>\n",
              "      <td>0</td>\n",
              "      <td>0</td>\n",
              "      <td>0</td>\n",
              "      <td>...</td>\n",
              "      <td>0</td>\n",
              "      <td>0</td>\n",
              "      <td>1</td>\n",
              "      <td>0</td>\n",
              "      <td>0</td>\n",
              "      <td>0</td>\n",
              "      <td>0</td>\n",
              "      <td>0</td>\n",
              "      <td>0</td>\n",
              "      <td>0</td>\n",
              "    </tr>\n",
              "    <tr>\n",
              "      <th>3</th>\n",
              "      <td>0</td>\n",
              "      <td>0</td>\n",
              "      <td>0</td>\n",
              "      <td>0</td>\n",
              "      <td>0</td>\n",
              "      <td>0</td>\n",
              "      <td>0</td>\n",
              "      <td>0</td>\n",
              "      <td>0</td>\n",
              "      <td>0</td>\n",
              "      <td>...</td>\n",
              "      <td>0</td>\n",
              "      <td>1</td>\n",
              "      <td>0</td>\n",
              "      <td>0</td>\n",
              "      <td>0</td>\n",
              "      <td>0</td>\n",
              "      <td>0</td>\n",
              "      <td>0</td>\n",
              "      <td>0</td>\n",
              "      <td>0</td>\n",
              "    </tr>\n",
              "    <tr>\n",
              "      <th>4</th>\n",
              "      <td>0</td>\n",
              "      <td>0</td>\n",
              "      <td>0</td>\n",
              "      <td>0</td>\n",
              "      <td>0</td>\n",
              "      <td>0</td>\n",
              "      <td>0</td>\n",
              "      <td>0</td>\n",
              "      <td>0</td>\n",
              "      <td>0</td>\n",
              "      <td>...</td>\n",
              "      <td>0</td>\n",
              "      <td>0</td>\n",
              "      <td>0</td>\n",
              "      <td>0</td>\n",
              "      <td>0</td>\n",
              "      <td>0</td>\n",
              "      <td>0</td>\n",
              "      <td>0</td>\n",
              "      <td>0</td>\n",
              "      <td>0</td>\n",
              "    </tr>\n",
              "  </tbody>\n",
              "</table>\n",
              "<p>5 rows × 59 columns</p>\n",
              "</div>"
            ],
            "text/plain": [
              "   network_KBS2  network_KBS2,  Netflix  network_KBS2, Viki, Netflix  \\\n",
              "0             0                       0                            0   \n",
              "1             0                       0                            0   \n",
              "2             0                       0                            0   \n",
              "3             0                       0                            0   \n",
              "4             0                       0                            0   \n",
              "\n",
              "   network_KBS2, Viki, Netflix, Apple TV  \\\n",
              "0                                      0   \n",
              "1                                      0   \n",
              "2                                      0   \n",
              "3                                      0   \n",
              "4                                      0   \n",
              "\n",
              "   network_KBS2, Viki, Netflix, Prime Video  \\\n",
              "0                                         0   \n",
              "1                                         0   \n",
              "2                                         0   \n",
              "3                                         0   \n",
              "4                                         0   \n",
              "\n",
              "   network_KBS2, WeTV, Netflix, Iflix, Apple TV, Viki  network_MBC  \\\n",
              "0                                                  0             0   \n",
              "1                                                  0             0   \n",
              "2                                                  0             0   \n",
              "3                                                  0             0   \n",
              "4                                                  0             0   \n",
              "\n",
              "   network_MBC, Viki  network_MBC, Viki, Netflix, Apple TV, Prime Video  \\\n",
              "0                  0                                                  0   \n",
              "1                  0                                                  0   \n",
              "2                  0                                                  0   \n",
              "3                  0                                                  0   \n",
              "4                  0                                                  0   \n",
              "\n",
              "   network_MBC, iQIYI, Viu, WeTV  ...  network_tvN, Netflix, Vidio, Viu  \\\n",
              "0                              0  ...                                 0   \n",
              "1                              0  ...                                 0   \n",
              "2                              0  ...                                 0   \n",
              "3                              0  ...                                 0   \n",
              "4                              0  ...                                 0   \n",
              "\n",
              "   network_tvN, Netflix, Vidio, iQIYI, Viu  \\\n",
              "0                                        0   \n",
              "1                                        0   \n",
              "2                                        0   \n",
              "3                                        1   \n",
              "4                                        0   \n",
              "\n",
              "   network_tvN, Netflix, Vidio, iQIYI, viu, Amazon Prime Vide  \\\n",
              "0                                                  0            \n",
              "1                                                  0            \n",
              "2                                                  1            \n",
              "3                                                  0            \n",
              "4                                                  0            \n",
              "\n",
              "   network_tvN, Netflix, Viu, Vidio, iQIYI, Amazon Prime Vide  \\\n",
              "0                                                  0            \n",
              "1                                                  0            \n",
              "2                                                  0            \n",
              "3                                                  0            \n",
              "4                                                  0            \n",
              "\n",
              "   network_tvN, Vidio, Amazon Prime Video  network_tvN, Vidio, Disney+  \\\n",
              "0                                       0                            0   \n",
              "1                                       0                            0   \n",
              "2                                       0                            0   \n",
              "3                                       0                            0   \n",
              "4                                       0                            0   \n",
              "\n",
              "   network_tvN, Viki, WeTV  network_tvN, Viki, WeTV, Apple TV  \\\n",
              "0                        0                                  0   \n",
              "1                        0                                  0   \n",
              "2                        0                                  0   \n",
              "3                        0                                  0   \n",
              "4                        0                                  0   \n",
              "\n",
              "   network_tvN, Viu  network_tvN, Viu, Vidio  \n",
              "0                 0                        0  \n",
              "1                 0                        0  \n",
              "2                 0                        0  \n",
              "3                 0                        0  \n",
              "4                 0                        0  \n",
              "\n",
              "[5 rows x 59 columns]"
            ]
          },
          "execution_count": 13,
          "metadata": {},
          "output_type": "execute_result"
        }
      ],
      "source": [
        "pd.get_dummies(df[['network']]).head()"
      ]
    },
    {
      "cell_type": "code",
      "execution_count": 14,
      "metadata": {
        "id": "lw57sWr-uTyO"
      },
      "outputs": [],
      "source": [
        "df['rating'] = df['rating'].astype(float)\n",
        "df['rating'].fillna(df['rating'].median(), inplace = True)\n",
        "df['tahun'] = df['tahun'].astype(float)"
      ]
    },
    {
      "cell_type": "code",
      "execution_count": 15,
      "metadata": {
        "colab": {
          "base_uri": "https://localhost:8080/",
          "height": 386
        },
        "id": "3bGQjBQa3lDg",
        "outputId": "05fad9db-3c9a-4c63-ea43-e397f4b387d8"
      },
      "outputs": [
        {
          "data": {
            "text/html": [
              "<div>\n",
              "<style scoped>\n",
              "    .dataframe tbody tr th:only-of-type {\n",
              "        vertical-align: middle;\n",
              "    }\n",
              "\n",
              "    .dataframe tbody tr th {\n",
              "        vertical-align: top;\n",
              "    }\n",
              "\n",
              "    .dataframe thead th {\n",
              "        text-align: right;\n",
              "    }\n",
              "</style>\n",
              "<table border=\"1\" class=\"dataframe\">\n",
              "  <thead>\n",
              "    <tr style=\"text-align: right;\">\n",
              "      <th></th>\n",
              "      <th></th>\n",
              "      <th>Business</th>\n",
              "      <th>Comedy</th>\n",
              "      <th>Crime</th>\n",
              "      <th>Crime</th>\n",
              "      <th>D</th>\n",
              "      <th>Dr</th>\n",
              "      <th>Drama</th>\n",
              "      <th>Drama</th>\n",
              "      <th>Fa</th>\n",
              "      <th>...</th>\n",
              "      <th>network_tvN, Netflix, Viu, Vidio, iQIYI, Amazon Prime Vide</th>\n",
              "      <th>network_tvN, Vidio, Amazon Prime Video</th>\n",
              "      <th>network_tvN, Vidio, Disney+</th>\n",
              "      <th>network_tvN, Viki, WeTV</th>\n",
              "      <th>network_tvN, Viki, WeTV, Apple TV</th>\n",
              "      <th>network_tvN, Viu</th>\n",
              "      <th>network_tvN, Viu, Vidio</th>\n",
              "      <th>rating</th>\n",
              "      <th>tahun</th>\n",
              "      <th>episode</th>\n",
              "    </tr>\n",
              "  </thead>\n",
              "  <tbody>\n",
              "    <tr>\n",
              "      <th>0</th>\n",
              "      <td>0</td>\n",
              "      <td>0</td>\n",
              "      <td>0</td>\n",
              "      <td>0</td>\n",
              "      <td>0</td>\n",
              "      <td>0</td>\n",
              "      <td>0</td>\n",
              "      <td>1</td>\n",
              "      <td>0</td>\n",
              "      <td>0</td>\n",
              "      <td>...</td>\n",
              "      <td>0</td>\n",
              "      <td>0</td>\n",
              "      <td>0</td>\n",
              "      <td>0</td>\n",
              "      <td>0</td>\n",
              "      <td>0</td>\n",
              "      <td>0</td>\n",
              "      <td>9.2</td>\n",
              "      <td>10.0</td>\n",
              "      <td>10</td>\n",
              "    </tr>\n",
              "    <tr>\n",
              "      <th>1</th>\n",
              "      <td>0</td>\n",
              "      <td>0</td>\n",
              "      <td>0</td>\n",
              "      <td>0</td>\n",
              "      <td>0</td>\n",
              "      <td>0</td>\n",
              "      <td>0</td>\n",
              "      <td>0</td>\n",
              "      <td>0</td>\n",
              "      <td>0</td>\n",
              "      <td>...</td>\n",
              "      <td>0</td>\n",
              "      <td>0</td>\n",
              "      <td>0</td>\n",
              "      <td>0</td>\n",
              "      <td>0</td>\n",
              "      <td>0</td>\n",
              "      <td>0</td>\n",
              "      <td>9.1</td>\n",
              "      <td>12.0</td>\n",
              "      <td>12</td>\n",
              "    </tr>\n",
              "    <tr>\n",
              "      <th>2</th>\n",
              "      <td>0</td>\n",
              "      <td>0</td>\n",
              "      <td>0</td>\n",
              "      <td>1</td>\n",
              "      <td>0</td>\n",
              "      <td>0</td>\n",
              "      <td>0</td>\n",
              "      <td>0</td>\n",
              "      <td>0</td>\n",
              "      <td>0</td>\n",
              "      <td>...</td>\n",
              "      <td>0</td>\n",
              "      <td>0</td>\n",
              "      <td>0</td>\n",
              "      <td>0</td>\n",
              "      <td>0</td>\n",
              "      <td>0</td>\n",
              "      <td>0</td>\n",
              "      <td>9.1</td>\n",
              "      <td>16.0</td>\n",
              "      <td>16</td>\n",
              "    </tr>\n",
              "    <tr>\n",
              "      <th>3</th>\n",
              "      <td>0</td>\n",
              "      <td>0</td>\n",
              "      <td>0</td>\n",
              "      <td>0</td>\n",
              "      <td>0</td>\n",
              "      <td>0</td>\n",
              "      <td>0</td>\n",
              "      <td>1</td>\n",
              "      <td>0</td>\n",
              "      <td>0</td>\n",
              "      <td>...</td>\n",
              "      <td>0</td>\n",
              "      <td>0</td>\n",
              "      <td>0</td>\n",
              "      <td>0</td>\n",
              "      <td>0</td>\n",
              "      <td>0</td>\n",
              "      <td>0</td>\n",
              "      <td>9.1</td>\n",
              "      <td>16.0</td>\n",
              "      <td>16</td>\n",
              "    </tr>\n",
              "    <tr>\n",
              "      <th>4</th>\n",
              "      <td>0</td>\n",
              "      <td>0</td>\n",
              "      <td>0</td>\n",
              "      <td>0</td>\n",
              "      <td>0</td>\n",
              "      <td>0</td>\n",
              "      <td>0</td>\n",
              "      <td>0</td>\n",
              "      <td>1</td>\n",
              "      <td>0</td>\n",
              "      <td>...</td>\n",
              "      <td>0</td>\n",
              "      <td>0</td>\n",
              "      <td>0</td>\n",
              "      <td>0</td>\n",
              "      <td>0</td>\n",
              "      <td>0</td>\n",
              "      <td>0</td>\n",
              "      <td>9.1</td>\n",
              "      <td>2017.0</td>\n",
              "      <td>16</td>\n",
              "    </tr>\n",
              "  </tbody>\n",
              "</table>\n",
              "<p>5 rows × 136 columns</p>\n",
              "</div>"
            ],
            "text/plain": [
              "        Business    Comedy    Crime    Crime     D    Dr    Drama    Drama   \\\n",
              "0  0           0         0        0         0    0     0        1         0   \n",
              "1  0           0         0        0         0    0     0        0         0   \n",
              "2  0           0         0        1         0    0     0        0         0   \n",
              "3  0           0         0        0         0    0     0        1         0   \n",
              "4  0           0         0        0         0    0     0        0         1   \n",
              "\n",
              "     Fa  ...  network_tvN, Netflix, Viu, Vidio, iQIYI, Amazon Prime Vide  \\\n",
              "0     0  ...                                                  0            \n",
              "1     0  ...                                                  0            \n",
              "2     0  ...                                                  0            \n",
              "3     0  ...                                                  0            \n",
              "4     0  ...                                                  0            \n",
              "\n",
              "   network_tvN, Vidio, Amazon Prime Video  network_tvN, Vidio, Disney+  \\\n",
              "0                                       0                            0   \n",
              "1                                       0                            0   \n",
              "2                                       0                            0   \n",
              "3                                       0                            0   \n",
              "4                                       0                            0   \n",
              "\n",
              "   network_tvN, Viki, WeTV  network_tvN, Viki, WeTV, Apple TV  \\\n",
              "0                        0                                  0   \n",
              "1                        0                                  0   \n",
              "2                        0                                  0   \n",
              "3                        0                                  0   \n",
              "4                        0                                  0   \n",
              "\n",
              "   network_tvN, Viu  network_tvN, Viu, Vidio  rating   tahun  episode  \n",
              "0                 0                        0     9.2    10.0       10  \n",
              "1                 0                        0     9.1    12.0       12  \n",
              "2                 0                        0     9.1    16.0       16  \n",
              "3                 0                        0     9.1    16.0       16  \n",
              "4                 0                        0     9.1  2017.0       16  \n",
              "\n",
              "[5 rows x 136 columns]"
            ]
          },
          "execution_count": 15,
          "metadata": {},
          "output_type": "execute_result"
        }
      ],
      "source": [
        "df_features = pd.concat([df['genre'].str.get_dummies(sep=','),\n",
        "                         pd.get_dummies(df[['network']]),\n",
        "                         df[['rating']],df[['tahun']],df[['episode']]],axis=1)\n",
        "\n",
        "df['judul'] = df['judul'].map(lambda judul:re.sub('[^A-Za-z0-9]+',' ', judul))\n",
        "df_features.head()"
      ]
    },
    {
      "cell_type": "code",
      "execution_count": 17,
      "metadata": {
        "colab": {
          "base_uri": "https://localhost:8080/"
        },
        "id": "7RB6Yt5H53pD",
        "outputId": "2bbc3b92-829b-4b86-ac31-ee643d9f1806"
      },
      "outputs": [
        {
          "data": {
            "text/plain": [
              "Index([' ', '  Business', '  Comedy', '  Crime', '  Crime ', '  D', '  Dr',\n",
              "       '  Drama', '  Drama ', '  Fa',\n",
              "       ...\n",
              "       'network_tvN, Netflix, Viu, Vidio, iQIYI, Amazon Prime Vide',\n",
              "       'network_tvN, Vidio, Amazon Prime Video', 'network_tvN, Vidio, Disney+',\n",
              "       'network_tvN, Viki, WeTV', 'network_tvN, Viki, WeTV, Apple TV',\n",
              "       'network_tvN, Viu', 'network_tvN, Viu, Vidio', 'rating', 'tahun',\n",
              "       'episode'],\n",
              "      dtype='object', length=136)"
            ]
          },
          "execution_count": 17,
          "metadata": {},
          "output_type": "execute_result"
        }
      ],
      "source": [
        "df_features.columns"
      ]
    },
    {
      "cell_type": "code",
      "execution_count": 20,
      "metadata": {
        "id": "Oi7oBBtB9hGO"
      },
      "outputs": [],
      "source": [
        "from sklearn.preprocessing import MinMaxScaler"
      ]
    },
    {
      "cell_type": "code",
      "execution_count": 21,
      "metadata": {
        "id": "VvLyGcWf9vlG"
      },
      "outputs": [],
      "source": [
        "min_max_scaler = MinMaxScaler()\n",
        "df_features = min_max_scaler.fit_transform(df_features)"
      ]
    },
    {
      "cell_type": "code",
      "execution_count": 22,
      "metadata": {
        "colab": {
          "base_uri": "https://localhost:8080/"
        },
        "id": "H-V4mSJH-DNy",
        "outputId": "dd6cda41-44d1-4c44-b4fa-3259c63dd331"
      },
      "outputs": [
        {
          "data": {
            "text/plain": [
              "array([[0.  , 0.  , 0.  , ..., 1.  , 0.  , 0.04],\n",
              "       [0.  , 0.  , 0.  , ..., 0.86, 0.  , 0.06],\n",
              "       [0.  , 0.  , 0.  , ..., 0.86, 0.  , 0.11],\n",
              "       ...,\n",
              "       [0.  , 0.  , 1.  , ..., 0.  , 1.  , 0.11],\n",
              "       [0.  , 0.  , 0.  , ..., 0.  , 1.  , 0.07],\n",
              "       [0.  , 0.  , 0.  , ..., 0.  , 1.  , 0.19]])"
            ]
          },
          "execution_count": 22,
          "metadata": {},
          "output_type": "execute_result"
        }
      ],
      "source": [
        "np.round(df_features, 2)"
      ]
    },
    {
      "cell_type": "code",
      "execution_count": 23,
      "metadata": {
        "id": "KIaK16Vn-e_d"
      },
      "outputs": [],
      "source": [
        "from sklearn.neighbors import NearestNeighbors"
      ]
    },
    {
      "cell_type": "code",
      "execution_count": 24,
      "metadata": {
        "id": "qJY1I8X1-tIR"
      },
      "outputs": [],
      "source": [
        "nbrs =NearestNeighbors(n_neighbors=6, algorithm='ball_tree').fit(df_features)"
      ]
    },
    {
      "cell_type": "code",
      "execution_count": 25,
      "metadata": {
        "id": "hRKEQJ2j-8bb"
      },
      "outputs": [],
      "source": [
        "distances, indices = nbrs.kneighbors(df_features)"
      ]
    },
    {
      "cell_type": "code",
      "execution_count": 26,
      "metadata": {
        "id": "AY1epsYc_HM_"
      },
      "outputs": [],
      "source": [
        "def get_index_from_name(judul):\n",
        "  search_result = df[df['judul']==judul].index.tolist()\n",
        "  if not search_result:\n",
        "    return -1\n",
        "  return search_result[0]\n",
        "\n",
        "all_drama_names = list(df.judul.values)\n",
        "\n",
        "def get_id_from_partial_name(partial):\n",
        "  for judul in all_drama_names:\n",
        "    if partial in judul:\n",
        "      print(judul,all_drama_names.index(judul))\n",
        "\n",
        "def print_similar_drama(query=None, rank=None):\n",
        "  if rank:\n",
        "    for rank in indices[rank][1:]:\n",
        "      print(df.iloc[rank]['judul'])\n",
        "  if query:\n",
        "    found_rank = get_index_from_name(query)\n",
        "    for rank in indices[found_rank][1:]:\n",
        "      print(df.iloc[rank]['judul'])"
      ]
    },
    {
      "cell_type": "code",
      "execution_count": 27,
      "metadata": {
        "colab": {
          "base_uri": "https://localhost:8080/"
        },
        "id": "kwG7jx69BUJe",
        "outputId": "1e55eb0b-d0ed-4a98-9956-5f3dc1912530"
      },
      "outputs": [
        {
          "name": "stdout",
          "output_type": "stream",
          "text": [
            "Navillera\n",
            "My Mister\n",
            "SKY Castle\n",
            "My Father is Strange\n",
            "It s Okay to Not Be \n"
          ]
        }
      ],
      "source": [
        "print_similar_drama('Move to Heaven')"
      ]
    },
    {
      "cell_type": "code",
      "execution_count": 28,
      "metadata": {
        "colab": {
          "base_uri": "https://localhost:8080/"
        },
        "id": "VF6fArDmBafm",
        "outputId": "c58c60d1-62b3-4fd5-83f9-8f5ad77e219f"
      },
      "outputs": [
        {
          "name": "stdout",
          "output_type": "stream",
          "text": [
            "Cruel City\n",
            "Rebel\n",
            "Descendants of the S\n",
            "Strong Woman Do Bong\n",
            "Healer\n"
          ]
        }
      ],
      "source": [
        "print_similar_drama('W')"
      ]
    },
    {
      "cell_type": "code",
      "execution_count": 29,
      "metadata": {
        "colab": {
          "base_uri": "https://localhost:8080/"
        },
        "id": "CVAN0PAFDGML",
        "outputId": "17ec02a1-6062-4aec-a77d-62c365034b7e"
      },
      "outputs": [
        {
          "name": "stdout",
          "output_type": "stream",
          "text": [
            "Weightlifting Fairy  22\n",
            "While You Were Sleep 33\n",
            "Strong Woman Do Bong 49\n",
            "Eulachacha Waikiki 54\n",
            "The World of the Mar 82\n",
            "What s Wrong with Se 86\n",
            "When the Camellia Bl 87\n",
            "Fight For My Way 89\n",
            "W 91\n",
            "Beautiful World 92\n"
          ]
        }
      ],
      "source": [
        "get_id_from_partial_name('W')"
      ]
    },
    {
      "cell_type": "code",
      "execution_count": 27,
      "metadata": {
        "id": "nEzlsuRCEJtV"
      },
      "outputs": [],
      "source": [
        "#import pickle\n",
        "\n",
        "# Save the model to a file\n",
        "#with open('model.pkl', 'wb') as f:\n",
        "#  pickle.dump(print_similar_drama ,f)\n"
      ]
    },
    {
      "cell_type": "code",
      "execution_count": 28,
      "metadata": {
        "id": "TRf7YfXpS7QO"
      },
      "outputs": [],
      "source": [
        "# Load the model from the file\n",
        "#with open('model.pkl', 'rb') as f:\n",
        "#  model = pickle.load(f)\n"
      ]
    },
    {
      "cell_type": "code",
      "execution_count": 29,
      "metadata": {
        "colab": {
          "base_uri": "https://localhost:8080/",
          "height": 171
        },
        "id": "VPd_IonkTbM6",
        "outputId": "a4863b27-3ccc-4e9e-d6be-8bb222cf69e4"
      },
      "outputs": [
        {
          "ename": "NameError",
          "evalue": "ignored",
          "output_type": "error",
          "traceback": [
            "\u001b[0;31m---------------------------------------------------------------------------\u001b[0m",
            "\u001b[0;31mNameError\u001b[0m                                 Traceback (most recent call last)",
            "\u001b[0;32m<ipython-input-29-4b42be8c7175>\u001b[0m in \u001b[0;36m<module>\u001b[0;34m\u001b[0m\n\u001b[0;32m----> 1\u001b[0;31m \u001b[0mmodel\u001b[0m\u001b[0;34m(\u001b[0m\u001b[0;34m'W'\u001b[0m\u001b[0;34m)\u001b[0m\u001b[0;34m\u001b[0m\u001b[0;34m\u001b[0m\u001b[0m\n\u001b[0m",
            "\u001b[0;31mNameError\u001b[0m: name 'model' is not defined"
          ]
        }
      ],
      "source": [
        "#model('W')"
      ]
    },
    {
      "cell_type": "code",
      "execution_count": 30,
      "metadata": {
        "colab": {
          "base_uri": "https://localhost:8080/"
        },
        "id": "vvi17t-hTtp2",
        "outputId": "861586f1-d446-4b2d-b4c1-cdd4f1b5a573"
      },
      "outputs": [
        {
          "data": {
            "text/plain": [
              "['model.joblib']"
            ]
          },
          "execution_count": 30,
          "metadata": {},
          "output_type": "execute_result"
        }
      ],
      "source": [
        "import joblib\n",
        "\n",
        "# Save the model to a file\n",
        "joblib.dump(print_similar_drama, 'model.joblib')\n"
      ]
    },
    {
      "cell_type": "code",
      "execution_count": 31,
      "metadata": {
        "id": "TgTrfSiGZvyP"
      },
      "outputs": [],
      "source": [
        "import joblib\n",
        "\n",
        "# Load the model from the file\n",
        "model = joblib.load('model.joblib')"
      ]
    },
    {
      "cell_type": "code",
      "execution_count": 32,
      "metadata": {
        "colab": {
          "base_uri": "https://localhost:8080/"
        },
        "id": "km-_g4ZxZy5Q",
        "outputId": "5fd686a4-7daa-41ff-bef6-1f35e7ea73c1"
      },
      "outputs": [
        {
          "name": "stdout",
          "output_type": "stream",
          "text": [
            "Navillera\n",
            "My Mister\n",
            "SKY Castle\n",
            "My Father is Strange\n",
            "It s Okay to Not Be \n"
          ]
        }
      ],
      "source": [
        "model('Move to Heaven')"
      ]
    },
    {
      "cell_type": "code",
      "execution_count": null,
      "metadata": {
        "id": "-N3Ylnin6JeY"
      },
      "outputs": [],
      "source": []
    }
  ],
  "metadata": {
    "colab": {
      "provenance": []
    },
    "kernelspec": {
      "display_name": "Python 3.9.13 64-bit (microsoft store)",
      "language": "python",
      "name": "python3"
    },
    "language_info": {
      "codemirror_mode": {
        "name": "ipython",
        "version": 3
      },
      "file_extension": ".py",
      "mimetype": "text/x-python",
      "name": "python",
      "nbconvert_exporter": "python",
      "pygments_lexer": "ipython3",
      "version": "3.9.13"
    },
    "vscode": {
      "interpreter": {
        "hash": "b8880edf2d360c2e55f2f48359d1053484398bb4cb418214a79d4cd8556a3f23"
      }
    }
  },
  "nbformat": 4,
  "nbformat_minor": 0
}
